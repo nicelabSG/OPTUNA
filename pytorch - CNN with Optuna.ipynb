{
 "cells": [
  {
   "cell_type": "markdown",
   "metadata": {},
   "source": [
    "## Optuna를 활용한 CNN Model의 Hyperparameter Tuning\n",
    "- https://colab.research.google.com/drive/1TEILbIeyE1wW3daNWOx9rLq0Hc9TXmbV#scrollTo=Bm7t3gfI-1GF"
   ]
  },
  {
   "cell_type": "code",
   "execution_count": 71,
   "metadata": {},
   "outputs": [],
   "source": [
    "import optuna\n",
    "import numpy as np\n",
    "import pandas as pd\n",
    "import matplotlib.pyplot as plt\n",
    "\n",
    "import torch\n",
    "import torch.nn as nn\n",
    "import torch.optim as optim\n",
    "import torch.nn.functional as F\n",
    "from torch.utils.data import random_split\n",
    "from torchvision import datasets, transforms\n",
    "from torch.utils.data import DataLoader, Dataset"
   ]
  },
  {
   "cell_type": "code",
   "execution_count": 72,
   "metadata": {},
   "outputs": [
    {
     "name": "stdout",
     "output_type": "stream",
     "text": [
      "============================================================================================\n",
      "Device set to : NVIDIA GeForce GTX 1050 Ti\n",
      "============================================================================================\n"
     ]
    }
   ],
   "source": [
    "# GPU 정보도 받으면서 GPU 설정하기\n",
    "print(\"============================================================================================\")\n",
    "# set device to cpu or cuda\n",
    "device = torch.device('cpu')\n",
    "if(torch.cuda.is_available()): \n",
    "    device = torch.device('cuda:0') \n",
    "    torch.cuda.empty_cache()\n",
    "    print(\"Device set to : \" + str(torch.cuda.get_device_name(device)))\n",
    "else:\n",
    "    print(\"Device set to : cpu\")\n",
    "print(\"============================================================================================\")"
   ]
  },
  {
   "cell_type": "markdown",
   "metadata": {},
   "source": [
    "## 데이터"
   ]
  },
  {
   "cell_type": "code",
   "execution_count": 73,
   "metadata": {},
   "outputs": [],
   "source": [
    "train_data = datasets.MNIST(root='./data', train=True, download=True, transform=transforms.ToTensor())\n",
    "test_data = datasets.MNIST(root='./data', train=False, download=True, transform=transforms.ToTensor())"
   ]
  },
  {
   "cell_type": "code",
   "execution_count": 74,
   "metadata": {},
   "outputs": [
    {
     "name": "stdout",
     "output_type": "stream",
     "text": [
      "Dataset MNIST\n",
      "    Number of datapoints: 60000\n",
      "    Root location: ./data\n",
      "    Split: Train\n",
      "    StandardTransform\n",
      "Transform: ToTensor()\n",
      "\n",
      "Dataset MNIST\n",
      "    Number of datapoints: 10000\n",
      "    Root location: ./data\n",
      "    Split: Test\n",
      "    StandardTransform\n",
      "Transform: ToTensor()\n"
     ]
    }
   ],
   "source": [
    "print(train_data)\n",
    "print()\n",
    "print(test_data)"
   ]
  },
  {
   "cell_type": "code",
   "execution_count": 75,
   "metadata": {},
   "outputs": [],
   "source": [
    "def get_mnist_loaders(train_batch_size, test_batch_size):\n",
    "    \n",
    "    train_loader = DataLoader(train_data, batch_size=train_batch_size, shuffle=True)\n",
    "    test_loader = DataLoader(test_data, batch_size=test_batch_size, shuffle=False)\n",
    "    \n",
    "    return train_loader, test_loader"
   ]
  },
  {
   "cell_type": "markdown",
   "metadata": {},
   "source": [
    "## CNN"
   ]
  },
  {
   "cell_type": "code",
   "execution_count": 76,
   "metadata": {},
   "outputs": [],
   "source": [
    "class Net(nn.Module):\n",
    "    def __init__(self, out_channels1, out_channels2, prob1, prob2, prob3, hidden1):\n",
    "        super(Net, self).__init__()\n",
    "\n",
    "        self.layer1 = nn.Sequential(\n",
    "                                    nn.Conv2d(1, out_channels1, kernel_size=3, padding=1),  # in_channels는 절대 건들면 안 됨\n",
    "                                    nn.ReLU(),\n",
    "                                    nn.MaxPool2d(2),\n",
    "                                    nn.Dropout2d(prob1)  )\n",
    "\n",
    "        self.layer2 = nn.Sequential(\n",
    "                                    nn.Conv2d(out_channels1, out_channels2, kernel_size=3, padding=1), # \n",
    "                                    nn.ReLU(),\n",
    "                                    nn.MaxPool2d(2),\n",
    "                                    nn.Dropout2d(prob2) )\n",
    "        \n",
    "        self.linear1 = nn.Linear(out_channels2 * 7 * 7, hidden1) # out_channels2 * 7 * 7은 CNN에서 output_size 구하는 계산 식에서 얻음\n",
    "        self.relu = nn.ReLU()\n",
    "        self.dropout = nn.Dropout(prob3)\n",
    "        self.linear2 = nn.Linear(hidden1, 10)\n",
    "        self.logsoftmax = nn.LogSoftmax(dim=1)\n",
    "\n",
    "\n",
    "    def forward(self, x):\n",
    "        x = self.layer1(x)\n",
    "        x = self.layer2(x)\n",
    "\n",
    "        x = torch.flatten(x, start_dim=1)\n",
    "        x = self.relu(self.linear1(x))\n",
    "        x = self.dropout(x)\n",
    "        x = self.linear2(x)\n",
    "        x = self.logsoftmax(x)\n",
    "\n",
    "        return x"
   ]
  },
  {
   "cell_type": "code",
   "execution_count": 77,
   "metadata": {},
   "outputs": [
    {
     "name": "stdout",
     "output_type": "stream",
     "text": [
      "torch.Size([1, 1, 28, 28])\n"
     ]
    }
   ],
   "source": [
    "a = torch.ones(1, 1, 28, 28)\n",
    "print(a.shape)"
   ]
  },
  {
   "cell_type": "markdown",
   "metadata": {},
   "source": [
    "## TRAIN\n",
    "- nll_loss 사용해서 loss가 음수로 출력됨"
   ]
  },
  {
   "cell_type": "code",
   "execution_count": 78,
   "metadata": {},
   "outputs": [],
   "source": [
    "def train(log_interval, model, train_loader, optimizer, epoch, loss_func):\n",
    "    model.train()\n",
    "\n",
    "    for batch_idx, (x, y_true) in enumerate(train_loader):\n",
    "\n",
    "        x, y_true = x.to(device), y_true.to(device)#🟨🟨🟨🟨🟨🟨🟨🟨🟨🟨🟨🟨🟨🟨🟨🟨🟨🟨🟨🟨🟨🟨🟨🟨\n",
    "\n",
    "        optimizer.zero_grad()\n",
    "        y_pred = model(x) ##🟨🟨🟨🟨🟨🟨🟨🟨🟨🟨🟨🟨\n",
    "        loss = loss_func(y_pred, y_true) ##🟨🟨🟨🟨🟨🟨🟨🟨🟨🟨🟨🟨\n",
    "        loss.backward()\n",
    "        optimizer.step()\n",
    "\n",
    "        if batch_idx % log_interval == 0:\n",
    "            print( f'Train Epoch: {epoch} [{batch_idx*len(x)}/{len(train_loader.dataset)} ({100. * batch_idx / len(train_loader):.0f}%)]\\tLoss: {loss.item():.6f}' )"
   ]
  },
  {
   "cell_type": "markdown",
   "metadata": {},
   "source": [
    "## TEST"
   ]
  },
  {
   "cell_type": "code",
   "execution_count": 79,
   "metadata": {},
   "outputs": [],
   "source": [
    "def test(model, test_loader, loss_func):\n",
    "    model.eval()\n",
    "    \n",
    "    test_loss = 0\n",
    "    correct = 0\n",
    "    \n",
    "    with torch.no_grad():\n",
    "        for x, y_true in test_loader:\n",
    "\n",
    "            x, y_true = x.to(device), y_true.to(device)\n",
    "\n",
    "            y_pred = model(x) # torch.Size([1000, 10])\n",
    "\n",
    "            # loss_func(y_pred, y_true).item() ====> Scalar\n",
    "            test_loss += loss_func(y_pred, y_true).item()  # loss에 대한 스칼라 값 얻음\n",
    "\n",
    "            # dimension을 유지한 채로 argmax를 찾음\n",
    "            pred = y_pred.argmax(dim=1, keepdim=True)\n",
    "\n",
    "            # 그게 정답과 같은지 비교(.eq)해줌 ==> 결과는 True/False로 나옴\n",
    "            # True인 것들을 합산하면, 제대로 예측한 개수를 얻을 수 있음\n",
    "            correct += pred.eq(y_true.view_as(pred)).sum().item() \n",
    "\n",
    "    test_loss /= len(test_loader.dataset)\n",
    "    accuracy = 100. * correct / len(test_loader.dataset)\n",
    "\n",
    "    print( f'\\nTest set: Average loss: {test_loss:.4f}, Accuracy: {correct}/{len(test_loader.dataset)} ({100. * correct / len(test_loader.dataset):.0f}%)\\n' )\n",
    "    \n",
    "    return accuracy"
   ]
  },
  {
   "cell_type": "code",
   "execution_count": 80,
   "metadata": {},
   "outputs": [
    {
     "data": {
      "text/plain": [
       "'\\nnet = Net(out_channels1=32, out_channels2=64, prob1=0.2, prob2=0.2, prob3=0.2, hidden1=128)\\noptimizer = optim.Adam(net.parameters(), lr=0.001)\\ncriterion = nn.CrossEntropyLoss()\\ntrain_loader, test_loader = get_mnist_loaders(train_batch_size=64, test_batch_size=1000)\\n\\nfor epoch in range(1, 10+1):\\n    train(log_interval=100, model=net, train_loader=train_loader, optimizer=optimizer, epoch=epoch, loss_func=criterion)\\n    test(model=net, test_loader=test_loader, loss_func=criterion)\\n'"
      ]
     },
     "execution_count": 80,
     "metadata": {},
     "output_type": "execute_result"
    }
   ],
   "source": [
    "# 잘되는지 테스트 하는 곳\n",
    "'''\n",
    "net = Net(out_channels1=32, out_channels2=64, prob1=0.2, prob2=0.2, prob3=0.2, hidden1=128)\n",
    "optimizer = optim.Adam(net.parameters(), lr=0.001)\n",
    "criterion = nn.CrossEntropyLoss()\n",
    "train_loader, test_loader = get_mnist_loaders(train_batch_size=64, test_batch_size=1000)\n",
    "\n",
    "for epoch in range(1, 10+1):\n",
    "    train(log_interval=100, model=net, train_loader=train_loader, optimizer=optimizer, epoch=epoch, loss_func=criterion)\n",
    "    test(model=net, test_loader=test_loader, loss_func=criterion)\n",
    "'''"
   ]
  },
  {
   "cell_type": "markdown",
   "metadata": {},
   "source": [
    "## 본격적 학습"
   ]
  },
  {
   "cell_type": "code",
   "execution_count": 81,
   "metadata": {},
   "outputs": [],
   "source": [
    "def train_mnist(trial):\n",
    "\n",
    "    cfg = { #'device' : \"cuda\" if torch.cuda.is_available() else \"cpu\",##🟨🟨🟨🟨🟨🟨🟨🟨🟨🟨🟨🟨\n",
    "            'train_batch_size' : trial.suggest_categorical('train_batch_size', [64, 128, 256]),\n",
    "            'test_batch_size' : trial.suggest_categorical('test_batch_size', [64, 128, 256]),\n",
    "            'n_epochs' : 5,\n",
    "            'seed' : 0,\n",
    "            'log_interval' : 100, # 100번째 배치마다 loss 출력할 거임(로그 남기는 거)\n",
    "            'save_model' : False,\n",
    "            'lr' : trial.suggest_loguniform('lr', 1e-3, 1e-2),          \n",
    "            'momentum': trial.suggest_uniform('momentum', 0.4, 0.99),\n",
    "            'optimizer': trial.suggest_categorical('optimizer',['RAdam', 'Adam', 'RMSProp']),\n",
    "\n",
    "            'out_channels1': trial.suggest_categorical('out_channels1', [16, 32, 64]),\n",
    "            'out_channels2': trial.suggest_categorical('out_channels2', [16, 32, 64]),\n",
    "            'prob1': trial.suggest_uniform('prob1', 0.2, 0.5),\n",
    "            'prob2': trial.suggest_uniform('prob2', 0.2, 0.5),\n",
    "            'prob3': trial.suggest_uniform('prob3', 0.2, 0.5),\n",
    "            'hidden1': trial.suggest_categorical('hidden1', [64, 128, 256]),\n",
    "            }\n",
    "\n",
    "    # suggest_categorical에서 사용할 수 있는 건 int, str, bool, ......뿐임. 아래와 같이 작성해야 경고 문구 안 나옴.\n",
    "    optimizer_candidate = {'RAdam':optim.RAdam, 'Adam':optim.Adam, 'RMSProp':optim.RMSprop}[cfg['optimizer']]\n",
    "\n",
    "\n",
    "    #torch.manual_seed(cfg['seed'])\n",
    "    model = Net(cfg['out_channels1'], cfg['out_channels2'], cfg['prob1'], cfg['prob2'], cfg['prob3'], cfg['hidden1']).to(device)\n",
    "    optimizer = optimizer_candidate(model.parameters(), lr=cfg['lr'])\n",
    "    loss_func = nn.NLLLoss().to(device)\n",
    "    train_loader, test_loader = get_mnist_loaders(cfg['train_batch_size'], cfg['test_batch_size'])\n",
    "\n",
    "\n",
    "    for epoch in range(1, cfg['n_epochs'] + 1):\n",
    "        train(cfg['log_interval'], model, train_loader, optimizer, epoch, loss_func)\n",
    "        test_accuracy = test(model, test_loader, loss_func)\n",
    "        # print(test_accuracy)\n",
    "        \n",
    "    if cfg['save_model']:\n",
    "        torch.save(model.state_dict(), \"mnist_cnn.pt\")\n",
    "\n",
    "    return test_accuracy"
   ]
  },
  {
   "cell_type": "markdown",
   "metadata": {},
   "source": [
    "## Optimization"
   ]
  },
  {
   "cell_type": "code",
   "execution_count": 82,
   "metadata": {},
   "outputs": [
    {
     "name": "stderr",
     "output_type": "stream",
     "text": [
      "\u001b[32m[I 2022-08-08 20:00:36,888]\u001b[0m A new study created in memory with name: no-name-73ea5c4d-6872-466e-93e6-4a697e703441\u001b[0m\n",
      "c:\\Anaconda3\\lib\\site-packages\\optuna\\distributions.py:427: UserWarning: Choices for a categorical distribution should be a tuple of None, bool, int, float and str for persistent storage but contains <class 'torch.optim.radam.RAdam'> which is of type type.\n",
      "  warnings.warn(message)\n",
      "c:\\Anaconda3\\lib\\site-packages\\optuna\\distributions.py:427: UserWarning: Choices for a categorical distribution should be a tuple of None, bool, int, float and str for persistent storage but contains <class 'torch.optim.rmsprop.RMSprop'> which is of type type.\n",
      "  warnings.warn(message)\n",
      "c:\\Anaconda3\\lib\\site-packages\\optuna\\distributions.py:427: UserWarning: Choices for a categorical distribution should be a tuple of None, bool, int, float and str for persistent storage but contains <class 'torch.optim.adam.Adam'> which is of type type.\n",
      "  warnings.warn(message)\n"
     ]
    },
    {
     "name": "stdout",
     "output_type": "stream",
     "text": [
      "Train Epoch: 1 [0/60000 (0%)]\tLoss: 2.310981\n",
      "Train Epoch: 1 [12800/60000 (21%)]\tLoss: 0.472257\n",
      "Train Epoch: 1 [25600/60000 (43%)]\tLoss: 0.247451\n",
      "Train Epoch: 1 [38400/60000 (64%)]\tLoss: 0.289236\n",
      "Train Epoch: 1 [51200/60000 (85%)]\tLoss: 0.110843\n",
      "\n",
      "Test set: Average loss: 0.0003, Accuracy: 9726/10000 (97%)\n",
      "\n",
      "Train Epoch: 2 [0/60000 (0%)]\tLoss: 0.157784\n",
      "Train Epoch: 2 [12800/60000 (21%)]\tLoss: 0.128116\n",
      "Train Epoch: 2 [25600/60000 (43%)]\tLoss: 0.069859\n",
      "Train Epoch: 2 [38400/60000 (64%)]\tLoss: 0.070378\n",
      "Train Epoch: 2 [51200/60000 (85%)]\tLoss: 0.026730\n",
      "\n",
      "Test set: Average loss: 0.0002, Accuracy: 9827/10000 (98%)\n",
      "\n",
      "Train Epoch: 3 [0/60000 (0%)]\tLoss: 0.114039\n",
      "Train Epoch: 3 [12800/60000 (21%)]\tLoss: 0.060000\n",
      "Train Epoch: 3 [25600/60000 (43%)]\tLoss: 0.136222\n",
      "Train Epoch: 3 [38400/60000 (64%)]\tLoss: 0.048388\n",
      "Train Epoch: 3 [51200/60000 (85%)]\tLoss: 0.060345\n",
      "\n",
      "Test set: Average loss: 0.0002, Accuracy: 9843/10000 (98%)\n",
      "\n",
      "Train Epoch: 4 [0/60000 (0%)]\tLoss: 0.099550\n",
      "Train Epoch: 4 [12800/60000 (21%)]\tLoss: 0.145322\n",
      "Train Epoch: 4 [25600/60000 (43%)]\tLoss: 0.046811\n",
      "Train Epoch: 4 [38400/60000 (64%)]\tLoss: 0.041384\n",
      "Train Epoch: 4 [51200/60000 (85%)]\tLoss: 0.058863\n",
      "\n",
      "Test set: Average loss: 0.0001, Accuracy: 9889/10000 (99%)\n",
      "\n",
      "Train Epoch: 5 [0/60000 (0%)]\tLoss: 0.074106\n",
      "Train Epoch: 5 [12800/60000 (21%)]\tLoss: 0.039353\n",
      "Train Epoch: 5 [25600/60000 (43%)]\tLoss: 0.042838\n",
      "Train Epoch: 5 [38400/60000 (64%)]\tLoss: 0.120419\n",
      "Train Epoch: 5 [51200/60000 (85%)]\tLoss: 0.097322\n"
     ]
    },
    {
     "name": "stderr",
     "output_type": "stream",
     "text": [
      "\u001b[32m[I 2022-08-08 20:01:18,555]\u001b[0m Trial 0 finished with value: 99.02 and parameters: {'train_batch_size': 128, 'test_batch_size': 256, 'lr': 0.003038332838428516, 'momentum': 0.7675489001374012, 'optimizer': <class 'torch.optim.radam.RAdam'>, 'out_channels1': 16, 'out_channels2': 32, 'prob1': 0.21765708977921416, 'prob2': 0.26984438461641297, 'prob3': 0.31985142559466134, 'hidden1': 256}. Best is trial 0 with value: 99.02.\u001b[0m\n"
     ]
    },
    {
     "name": "stdout",
     "output_type": "stream",
     "text": [
      "\n",
      "Test set: Average loss: 0.0001, Accuracy: 9902/10000 (99%)\n",
      "\n",
      "Train Epoch: 1 [0/60000 (0%)]\tLoss: 2.305410\n"
     ]
    },
    {
     "name": "stderr",
     "output_type": "stream",
     "text": [
      "c:\\Anaconda3\\lib\\site-packages\\optuna\\distributions.py:427: UserWarning: Choices for a categorical distribution should be a tuple of None, bool, int, float and str for persistent storage but contains <class 'torch.optim.radam.RAdam'> which is of type type.\n",
      "  warnings.warn(message)\n",
      "c:\\Anaconda3\\lib\\site-packages\\optuna\\distributions.py:427: UserWarning: Choices for a categorical distribution should be a tuple of None, bool, int, float and str for persistent storage but contains <class 'torch.optim.rmsprop.RMSprop'> which is of type type.\n",
      "  warnings.warn(message)\n",
      "c:\\Anaconda3\\lib\\site-packages\\optuna\\distributions.py:427: UserWarning: Choices for a categorical distribution should be a tuple of None, bool, int, float and str for persistent storage but contains <class 'torch.optim.adam.Adam'> which is of type type.\n",
      "  warnings.warn(message)\n"
     ]
    },
    {
     "name": "stdout",
     "output_type": "stream",
     "text": [
      "Train Epoch: 1 [25600/60000 (43%)]\tLoss: 0.253280\n",
      "Train Epoch: 1 [51200/60000 (85%)]\tLoss: 0.277224\n",
      "\n",
      "Test set: Average loss: 0.0003, Accuracy: 9774/10000 (98%)\n",
      "\n",
      "Train Epoch: 2 [0/60000 (0%)]\tLoss: 0.170068\n",
      "Train Epoch: 2 [25600/60000 (43%)]\tLoss: 0.097202\n",
      "Train Epoch: 2 [51200/60000 (85%)]\tLoss: 0.109596\n",
      "\n",
      "Test set: Average loss: 0.0002, Accuracy: 9850/10000 (98%)\n",
      "\n",
      "Train Epoch: 3 [0/60000 (0%)]\tLoss: 0.082131\n",
      "Train Epoch: 3 [25600/60000 (43%)]\tLoss: 0.081989\n",
      "Train Epoch: 3 [51200/60000 (85%)]\tLoss: 0.093833\n",
      "\n",
      "Test set: Average loss: 0.0002, Accuracy: 9858/10000 (99%)\n",
      "\n",
      "Train Epoch: 4 [0/60000 (0%)]\tLoss: 0.110677\n",
      "Train Epoch: 4 [25600/60000 (43%)]\tLoss: 0.091293\n",
      "Train Epoch: 4 [51200/60000 (85%)]\tLoss: 0.104250\n",
      "\n",
      "Test set: Average loss: 0.0001, Accuracy: 9879/10000 (99%)\n",
      "\n",
      "Train Epoch: 5 [0/60000 (0%)]\tLoss: 0.064317\n",
      "Train Epoch: 5 [25600/60000 (43%)]\tLoss: 0.125389\n",
      "Train Epoch: 5 [51200/60000 (85%)]\tLoss: 0.081636\n"
     ]
    },
    {
     "name": "stderr",
     "output_type": "stream",
     "text": [
      "\u001b[32m[I 2022-08-08 20:01:55,786]\u001b[0m Trial 1 finished with value: 98.85 and parameters: {'train_batch_size': 256, 'test_batch_size': 256, 'lr': 0.0073344386654486055, 'momentum': 0.496217804407862, 'optimizer': <class 'torch.optim.adam.Adam'>, 'out_channels1': 32, 'out_channels2': 64, 'prob1': 0.46213332451334194, 'prob2': 0.3318042220703836, 'prob3': 0.4451061248321557, 'hidden1': 128}. Best is trial 0 with value: 99.02.\u001b[0m\n"
     ]
    },
    {
     "name": "stdout",
     "output_type": "stream",
     "text": [
      "\n",
      "Test set: Average loss: 0.0001, Accuracy: 9885/10000 (99%)\n",
      "\n",
      "Train Epoch: 1 [0/60000 (0%)]\tLoss: 2.308967\n"
     ]
    },
    {
     "name": "stderr",
     "output_type": "stream",
     "text": [
      "c:\\Anaconda3\\lib\\site-packages\\optuna\\distributions.py:427: UserWarning: Choices for a categorical distribution should be a tuple of None, bool, int, float and str for persistent storage but contains <class 'torch.optim.radam.RAdam'> which is of type type.\n",
      "  warnings.warn(message)\n",
      "c:\\Anaconda3\\lib\\site-packages\\optuna\\distributions.py:427: UserWarning: Choices for a categorical distribution should be a tuple of None, bool, int, float and str for persistent storage but contains <class 'torch.optim.rmsprop.RMSprop'> which is of type type.\n",
      "  warnings.warn(message)\n",
      "c:\\Anaconda3\\lib\\site-packages\\optuna\\distributions.py:427: UserWarning: Choices for a categorical distribution should be a tuple of None, bool, int, float and str for persistent storage but contains <class 'torch.optim.adam.Adam'> which is of type type.\n",
      "  warnings.warn(message)\n"
     ]
    },
    {
     "name": "stdout",
     "output_type": "stream",
     "text": [
      "Train Epoch: 1 [25600/60000 (43%)]\tLoss: 0.439722\n",
      "Train Epoch: 1 [51200/60000 (85%)]\tLoss: 0.273339\n",
      "\n",
      "Test set: Average loss: 0.0018, Accuracy: 9659/10000 (97%)\n",
      "\n",
      "Train Epoch: 2 [0/60000 (0%)]\tLoss: 0.284116\n",
      "Train Epoch: 2 [25600/60000 (43%)]\tLoss: 0.186962\n",
      "Train Epoch: 2 [51200/60000 (85%)]\tLoss: 0.256607\n",
      "\n",
      "Test set: Average loss: 0.0014, Accuracy: 9701/10000 (97%)\n",
      "\n",
      "Train Epoch: 3 [0/60000 (0%)]\tLoss: 0.192953\n",
      "Train Epoch: 3 [25600/60000 (43%)]\tLoss: 0.200347\n",
      "Train Epoch: 3 [51200/60000 (85%)]\tLoss: 0.250331\n",
      "\n",
      "Test set: Average loss: 0.0011, Accuracy: 9761/10000 (98%)\n",
      "\n",
      "Train Epoch: 4 [0/60000 (0%)]\tLoss: 0.172701\n",
      "Train Epoch: 4 [25600/60000 (43%)]\tLoss: 0.163696\n",
      "Train Epoch: 4 [51200/60000 (85%)]\tLoss: 0.153687\n",
      "\n",
      "Test set: Average loss: 0.0009, Accuracy: 9797/10000 (98%)\n",
      "\n",
      "Train Epoch: 5 [0/60000 (0%)]\tLoss: 0.143248\n",
      "Train Epoch: 5 [25600/60000 (43%)]\tLoss: 0.124428\n",
      "Train Epoch: 5 [51200/60000 (85%)]\tLoss: 0.134014\n"
     ]
    },
    {
     "name": "stderr",
     "output_type": "stream",
     "text": [
      "\u001b[32m[I 2022-08-08 20:02:33,213]\u001b[0m Trial 2 finished with value: 98.16 and parameters: {'train_batch_size': 256, 'test_batch_size': 64, 'lr': 0.00491097103562962, 'momentum': 0.8957109948010837, 'optimizer': <class 'torch.optim.rmsprop.RMSprop'>, 'out_channels1': 32, 'out_channels2': 32, 'prob1': 0.2632662815491492, 'prob2': 0.2264663927602279, 'prob3': 0.43780786413831707, 'hidden1': 128}. Best is trial 0 with value: 99.02.\u001b[0m\n"
     ]
    },
    {
     "name": "stdout",
     "output_type": "stream",
     "text": [
      "\n",
      "Test set: Average loss: 0.0009, Accuracy: 9816/10000 (98%)\n",
      "\n",
      "Train Epoch: 1 [0/60000 (0%)]\tLoss: 2.292982\n"
     ]
    },
    {
     "name": "stderr",
     "output_type": "stream",
     "text": [
      "c:\\Anaconda3\\lib\\site-packages\\optuna\\distributions.py:427: UserWarning: Choices for a categorical distribution should be a tuple of None, bool, int, float and str for persistent storage but contains <class 'torch.optim.radam.RAdam'> which is of type type.\n",
      "  warnings.warn(message)\n",
      "c:\\Anaconda3\\lib\\site-packages\\optuna\\distributions.py:427: UserWarning: Choices for a categorical distribution should be a tuple of None, bool, int, float and str for persistent storage but contains <class 'torch.optim.rmsprop.RMSprop'> which is of type type.\n",
      "  warnings.warn(message)\n",
      "c:\\Anaconda3\\lib\\site-packages\\optuna\\distributions.py:427: UserWarning: Choices for a categorical distribution should be a tuple of None, bool, int, float and str for persistent storage but contains <class 'torch.optim.adam.Adam'> which is of type type.\n",
      "  warnings.warn(message)\n"
     ]
    },
    {
     "name": "stdout",
     "output_type": "stream",
     "text": [
      "Train Epoch: 1 [12800/60000 (21%)]\tLoss: 0.295012\n",
      "Train Epoch: 1 [25600/60000 (43%)]\tLoss: 0.184025\n",
      "Train Epoch: 1 [38400/60000 (64%)]\tLoss: 0.102384\n",
      "Train Epoch: 1 [51200/60000 (85%)]\tLoss: 0.084874\n",
      "\n",
      "Test set: Average loss: 0.0003, Accuracy: 9792/10000 (98%)\n",
      "\n",
      "Train Epoch: 2 [0/60000 (0%)]\tLoss: 0.087904\n",
      "Train Epoch: 2 [12800/60000 (21%)]\tLoss: 0.149347\n",
      "Train Epoch: 2 [25600/60000 (43%)]\tLoss: 0.117072\n",
      "Train Epoch: 2 [38400/60000 (64%)]\tLoss: 0.058664\n",
      "Train Epoch: 2 [51200/60000 (85%)]\tLoss: 0.097508\n",
      "\n",
      "Test set: Average loss: 0.0002, Accuracy: 9863/10000 (99%)\n",
      "\n",
      "Train Epoch: 3 [0/60000 (0%)]\tLoss: 0.137589\n",
      "Train Epoch: 3 [12800/60000 (21%)]\tLoss: 0.149872\n",
      "Train Epoch: 3 [25600/60000 (43%)]\tLoss: 0.109532\n",
      "Train Epoch: 3 [38400/60000 (64%)]\tLoss: 0.046454\n",
      "Train Epoch: 3 [51200/60000 (85%)]\tLoss: 0.104171\n",
      "\n",
      "Test set: Average loss: 0.0001, Accuracy: 9879/10000 (99%)\n",
      "\n",
      "Train Epoch: 4 [0/60000 (0%)]\tLoss: 0.051127\n",
      "Train Epoch: 4 [12800/60000 (21%)]\tLoss: 0.095887\n",
      "Train Epoch: 4 [25600/60000 (43%)]\tLoss: 0.124067\n",
      "Train Epoch: 4 [38400/60000 (64%)]\tLoss: 0.134600\n",
      "Train Epoch: 4 [51200/60000 (85%)]\tLoss: 0.043782\n",
      "\n",
      "Test set: Average loss: 0.0001, Accuracy: 9882/10000 (99%)\n",
      "\n",
      "Train Epoch: 5 [0/60000 (0%)]\tLoss: 0.053941\n",
      "Train Epoch: 5 [12800/60000 (21%)]\tLoss: 0.046647\n",
      "Train Epoch: 5 [25600/60000 (43%)]\tLoss: 0.049515\n",
      "Train Epoch: 5 [38400/60000 (64%)]\tLoss: 0.053300\n",
      "Train Epoch: 5 [51200/60000 (85%)]\tLoss: 0.075348\n"
     ]
    },
    {
     "name": "stderr",
     "output_type": "stream",
     "text": [
      "\u001b[32m[I 2022-08-08 20:03:14,243]\u001b[0m Trial 3 finished with value: 98.93 and parameters: {'train_batch_size': 128, 'test_batch_size': 256, 'lr': 0.0030545557793605622, 'momentum': 0.4634149584438463, 'optimizer': <class 'torch.optim.adam.Adam'>, 'out_channels1': 64, 'out_channels2': 32, 'prob1': 0.4375660996286772, 'prob2': 0.3437007057001645, 'prob3': 0.4558095215549236, 'hidden1': 128}. Best is trial 0 with value: 99.02.\u001b[0m\n"
     ]
    },
    {
     "name": "stdout",
     "output_type": "stream",
     "text": [
      "\n",
      "Test set: Average loss: 0.0001, Accuracy: 9893/10000 (99%)\n",
      "\n",
      "Train Epoch: 1 [0/60000 (0%)]\tLoss: 2.302588\n"
     ]
    },
    {
     "name": "stderr",
     "output_type": "stream",
     "text": [
      "c:\\Anaconda3\\lib\\site-packages\\optuna\\distributions.py:427: UserWarning: Choices for a categorical distribution should be a tuple of None, bool, int, float and str for persistent storage but contains <class 'torch.optim.radam.RAdam'> which is of type type.\n",
      "  warnings.warn(message)\n",
      "c:\\Anaconda3\\lib\\site-packages\\optuna\\distributions.py:427: UserWarning: Choices for a categorical distribution should be a tuple of None, bool, int, float and str for persistent storage but contains <class 'torch.optim.rmsprop.RMSprop'> which is of type type.\n",
      "  warnings.warn(message)\n",
      "c:\\Anaconda3\\lib\\site-packages\\optuna\\distributions.py:427: UserWarning: Choices for a categorical distribution should be a tuple of None, bool, int, float and str for persistent storage but contains <class 'torch.optim.adam.Adam'> which is of type type.\n",
      "  warnings.warn(message)\n"
     ]
    },
    {
     "name": "stdout",
     "output_type": "stream",
     "text": [
      "Train Epoch: 1 [6400/60000 (11%)]\tLoss: 1.399712\n",
      "Train Epoch: 1 [12800/60000 (21%)]\tLoss: 0.555325\n",
      "Train Epoch: 1 [19200/60000 (32%)]\tLoss: 0.352721\n",
      "Train Epoch: 1 [25600/60000 (43%)]\tLoss: 0.442957\n",
      "Train Epoch: 1 [32000/60000 (53%)]\tLoss: 0.349696\n",
      "Train Epoch: 1 [38400/60000 (64%)]\tLoss: 0.123177\n",
      "Train Epoch: 1 [44800/60000 (75%)]\tLoss: 0.176809\n",
      "Train Epoch: 1 [51200/60000 (85%)]\tLoss: 0.280234\n",
      "Train Epoch: 1 [57600/60000 (96%)]\tLoss: 0.243433\n",
      "\n",
      "Test set: Average loss: 0.0016, Accuracy: 9666/10000 (97%)\n",
      "\n",
      "Train Epoch: 2 [0/60000 (0%)]\tLoss: 0.224832\n",
      "Train Epoch: 2 [6400/60000 (11%)]\tLoss: 0.085112\n",
      "Train Epoch: 2 [12800/60000 (21%)]\tLoss: 0.159197\n",
      "Train Epoch: 2 [19200/60000 (32%)]\tLoss: 0.109515\n",
      "Train Epoch: 2 [25600/60000 (43%)]\tLoss: 0.083461\n",
      "Train Epoch: 2 [32000/60000 (53%)]\tLoss: 0.288589\n",
      "Train Epoch: 2 [38400/60000 (64%)]\tLoss: 0.182973\n",
      "Train Epoch: 2 [44800/60000 (75%)]\tLoss: 0.135145\n",
      "Train Epoch: 2 [51200/60000 (85%)]\tLoss: 0.152611\n",
      "Train Epoch: 2 [57600/60000 (96%)]\tLoss: 0.079401\n",
      "\n",
      "Test set: Average loss: 0.0011, Accuracy: 9762/10000 (98%)\n",
      "\n",
      "Train Epoch: 3 [0/60000 (0%)]\tLoss: 0.172311\n",
      "Train Epoch: 3 [6400/60000 (11%)]\tLoss: 0.135037\n",
      "Train Epoch: 3 [12800/60000 (21%)]\tLoss: 0.271796\n",
      "Train Epoch: 3 [19200/60000 (32%)]\tLoss: 0.049895\n",
      "Train Epoch: 3 [25600/60000 (43%)]\tLoss: 0.088255\n",
      "Train Epoch: 3 [32000/60000 (53%)]\tLoss: 0.188908\n",
      "Train Epoch: 3 [38400/60000 (64%)]\tLoss: 0.116144\n",
      "Train Epoch: 3 [44800/60000 (75%)]\tLoss: 0.074104\n",
      "Train Epoch: 3 [51200/60000 (85%)]\tLoss: 0.215614\n",
      "Train Epoch: 3 [57600/60000 (96%)]\tLoss: 0.051355\n",
      "\n",
      "Test set: Average loss: 0.0009, Accuracy: 9805/10000 (98%)\n",
      "\n",
      "Train Epoch: 4 [0/60000 (0%)]\tLoss: 0.145065\n",
      "Train Epoch: 4 [6400/60000 (11%)]\tLoss: 0.026887\n",
      "Train Epoch: 4 [12800/60000 (21%)]\tLoss: 0.024697\n",
      "Train Epoch: 4 [19200/60000 (32%)]\tLoss: 0.185444\n",
      "Train Epoch: 4 [25600/60000 (43%)]\tLoss: 0.186040\n",
      "Train Epoch: 4 [32000/60000 (53%)]\tLoss: 0.082123\n",
      "Train Epoch: 4 [38400/60000 (64%)]\tLoss: 0.232946\n",
      "Train Epoch: 4 [44800/60000 (75%)]\tLoss: 0.061408\n",
      "Train Epoch: 4 [51200/60000 (85%)]\tLoss: 0.033713\n",
      "Train Epoch: 4 [57600/60000 (96%)]\tLoss: 0.042404\n",
      "\n",
      "Test set: Average loss: 0.0006, Accuracy: 9857/10000 (99%)\n",
      "\n",
      "Train Epoch: 5 [0/60000 (0%)]\tLoss: 0.147002\n",
      "Train Epoch: 5 [6400/60000 (11%)]\tLoss: 0.042631\n",
      "Train Epoch: 5 [12800/60000 (21%)]\tLoss: 0.122942\n",
      "Train Epoch: 5 [19200/60000 (32%)]\tLoss: 0.100789\n",
      "Train Epoch: 5 [25600/60000 (43%)]\tLoss: 0.031644\n",
      "Train Epoch: 5 [32000/60000 (53%)]\tLoss: 0.117638\n",
      "Train Epoch: 5 [38400/60000 (64%)]\tLoss: 0.128588\n",
      "Train Epoch: 5 [44800/60000 (75%)]\tLoss: 0.100076\n",
      "Train Epoch: 5 [51200/60000 (85%)]\tLoss: 0.118109\n",
      "Train Epoch: 5 [57600/60000 (96%)]\tLoss: 0.028890\n"
     ]
    },
    {
     "name": "stderr",
     "output_type": "stream",
     "text": [
      "\u001b[32m[I 2022-08-08 20:04:04,478]\u001b[0m Trial 4 finished with value: 98.67 and parameters: {'train_batch_size': 64, 'test_batch_size': 64, 'lr': 0.0017011474531837512, 'momentum': 0.7468803550658518, 'optimizer': <class 'torch.optim.radam.RAdam'>, 'out_channels1': 32, 'out_channels2': 32, 'prob1': 0.4448928672628161, 'prob2': 0.4942064252013733, 'prob3': 0.30593373430027254, 'hidden1': 64}. Best is trial 0 with value: 99.02.\u001b[0m\n"
     ]
    },
    {
     "name": "stdout",
     "output_type": "stream",
     "text": [
      "\n",
      "Test set: Average loss: 0.0006, Accuracy: 9867/10000 (99%)\n",
      "\n",
      "Train Epoch: 1 [0/60000 (0%)]\tLoss: 2.298588\n"
     ]
    },
    {
     "name": "stderr",
     "output_type": "stream",
     "text": [
      "c:\\Anaconda3\\lib\\site-packages\\optuna\\distributions.py:427: UserWarning: Choices for a categorical distribution should be a tuple of None, bool, int, float and str for persistent storage but contains <class 'torch.optim.radam.RAdam'> which is of type type.\n",
      "  warnings.warn(message)\n",
      "c:\\Anaconda3\\lib\\site-packages\\optuna\\distributions.py:427: UserWarning: Choices for a categorical distribution should be a tuple of None, bool, int, float and str for persistent storage but contains <class 'torch.optim.rmsprop.RMSprop'> which is of type type.\n",
      "  warnings.warn(message)\n",
      "c:\\Anaconda3\\lib\\site-packages\\optuna\\distributions.py:427: UserWarning: Choices for a categorical distribution should be a tuple of None, bool, int, float and str for persistent storage but contains <class 'torch.optim.adam.Adam'> which is of type type.\n",
      "  warnings.warn(message)\n"
     ]
    },
    {
     "name": "stdout",
     "output_type": "stream",
     "text": [
      "Train Epoch: 1 [25600/60000 (43%)]\tLoss: 0.224102\n",
      "Train Epoch: 1 [51200/60000 (85%)]\tLoss: 0.144196\n",
      "\n",
      "Test set: Average loss: 0.0011, Accuracy: 9765/10000 (98%)\n",
      "\n",
      "Train Epoch: 2 [0/60000 (0%)]\tLoss: 0.100239\n",
      "Train Epoch: 2 [25600/60000 (43%)]\tLoss: 0.110774\n",
      "Train Epoch: 2 [51200/60000 (85%)]\tLoss: 0.121141\n",
      "\n",
      "Test set: Average loss: 0.0009, Accuracy: 9826/10000 (98%)\n",
      "\n",
      "Train Epoch: 3 [0/60000 (0%)]\tLoss: 0.122924\n",
      "Train Epoch: 3 [25600/60000 (43%)]\tLoss: 0.080914\n",
      "Train Epoch: 3 [51200/60000 (85%)]\tLoss: 0.156393\n",
      "\n",
      "Test set: Average loss: 0.0006, Accuracy: 9863/10000 (99%)\n",
      "\n",
      "Train Epoch: 4 [0/60000 (0%)]\tLoss: 0.110096\n",
      "Train Epoch: 4 [25600/60000 (43%)]\tLoss: 0.100383\n",
      "Train Epoch: 4 [51200/60000 (85%)]\tLoss: 0.110971\n",
      "\n",
      "Test set: Average loss: 0.0007, Accuracy: 9854/10000 (99%)\n",
      "\n",
      "Train Epoch: 5 [0/60000 (0%)]\tLoss: 0.067376\n",
      "Train Epoch: 5 [25600/60000 (43%)]\tLoss: 0.082814\n",
      "Train Epoch: 5 [51200/60000 (85%)]\tLoss: 0.056424\n"
     ]
    },
    {
     "name": "stderr",
     "output_type": "stream",
     "text": [
      "\u001b[32m[I 2022-08-08 20:04:42,289]\u001b[0m Trial 5 finished with value: 98.74 and parameters: {'train_batch_size': 256, 'test_batch_size': 64, 'lr': 0.007178165653462983, 'momentum': 0.5886980579554965, 'optimizer': <class 'torch.optim.adam.Adam'>, 'out_channels1': 16, 'out_channels2': 32, 'prob1': 0.4715309303638362, 'prob2': 0.36734460928981894, 'prob3': 0.2629812116409431, 'hidden1': 256}. Best is trial 0 with value: 99.02.\u001b[0m\n"
     ]
    },
    {
     "name": "stdout",
     "output_type": "stream",
     "text": [
      "\n",
      "Test set: Average loss: 0.0006, Accuracy: 9874/10000 (99%)\n",
      "\n",
      "Train Epoch: 1 [0/60000 (0%)]\tLoss: 2.271962\n"
     ]
    },
    {
     "name": "stderr",
     "output_type": "stream",
     "text": [
      "c:\\Anaconda3\\lib\\site-packages\\optuna\\distributions.py:427: UserWarning: Choices for a categorical distribution should be a tuple of None, bool, int, float and str for persistent storage but contains <class 'torch.optim.radam.RAdam'> which is of type type.\n",
      "  warnings.warn(message)\n",
      "c:\\Anaconda3\\lib\\site-packages\\optuna\\distributions.py:427: UserWarning: Choices for a categorical distribution should be a tuple of None, bool, int, float and str for persistent storage but contains <class 'torch.optim.rmsprop.RMSprop'> which is of type type.\n",
      "  warnings.warn(message)\n",
      "c:\\Anaconda3\\lib\\site-packages\\optuna\\distributions.py:427: UserWarning: Choices for a categorical distribution should be a tuple of None, bool, int, float and str for persistent storage but contains <class 'torch.optim.adam.Adam'> which is of type type.\n",
      "  warnings.warn(message)\n"
     ]
    },
    {
     "name": "stdout",
     "output_type": "stream",
     "text": [
      "Train Epoch: 1 [6400/60000 (11%)]\tLoss: 0.558203\n",
      "Train Epoch: 1 [12800/60000 (21%)]\tLoss: 0.308442\n",
      "Train Epoch: 1 [19200/60000 (32%)]\tLoss: 0.149643\n",
      "Train Epoch: 1 [25600/60000 (43%)]\tLoss: 0.335791\n",
      "Train Epoch: 1 [32000/60000 (53%)]\tLoss: 0.201538\n",
      "Train Epoch: 1 [38400/60000 (64%)]\tLoss: 0.128532\n",
      "Train Epoch: 1 [44800/60000 (75%)]\tLoss: 0.191906\n",
      "Train Epoch: 1 [51200/60000 (85%)]\tLoss: 0.190732\n",
      "Train Epoch: 1 [57600/60000 (96%)]\tLoss: 0.331812\n",
      "\n",
      "Test set: Average loss: 0.0005, Accuracy: 9770/10000 (98%)\n",
      "\n",
      "Train Epoch: 2 [0/60000 (0%)]\tLoss: 0.090592\n",
      "Train Epoch: 2 [6400/60000 (11%)]\tLoss: 0.298112\n",
      "Train Epoch: 2 [12800/60000 (21%)]\tLoss: 0.132419\n",
      "Train Epoch: 2 [19200/60000 (32%)]\tLoss: 0.092941\n",
      "Train Epoch: 2 [25600/60000 (43%)]\tLoss: 0.135146\n",
      "Train Epoch: 2 [32000/60000 (53%)]\tLoss: 0.118262\n",
      "Train Epoch: 2 [38400/60000 (64%)]\tLoss: 0.145120\n",
      "Train Epoch: 2 [44800/60000 (75%)]\tLoss: 0.103280\n",
      "Train Epoch: 2 [51200/60000 (85%)]\tLoss: 0.227070\n",
      "Train Epoch: 2 [57600/60000 (96%)]\tLoss: 0.036431\n",
      "\n",
      "Test set: Average loss: 0.0004, Accuracy: 9827/10000 (98%)\n",
      "\n",
      "Train Epoch: 3 [0/60000 (0%)]\tLoss: 0.145391\n",
      "Train Epoch: 3 [6400/60000 (11%)]\tLoss: 0.074486\n",
      "Train Epoch: 3 [12800/60000 (21%)]\tLoss: 0.150964\n",
      "Train Epoch: 3 [19200/60000 (32%)]\tLoss: 0.085803\n",
      "Train Epoch: 3 [25600/60000 (43%)]\tLoss: 0.165367\n",
      "Train Epoch: 3 [32000/60000 (53%)]\tLoss: 0.063434\n",
      "Train Epoch: 3 [38400/60000 (64%)]\tLoss: 0.166014\n",
      "Train Epoch: 3 [44800/60000 (75%)]\tLoss: 0.049808\n",
      "Train Epoch: 3 [51200/60000 (85%)]\tLoss: 0.130219\n",
      "Train Epoch: 3 [57600/60000 (96%)]\tLoss: 0.039764\n",
      "\n",
      "Test set: Average loss: 0.0004, Accuracy: 9829/10000 (98%)\n",
      "\n",
      "Train Epoch: 4 [0/60000 (0%)]\tLoss: 0.052721\n",
      "Train Epoch: 4 [6400/60000 (11%)]\tLoss: 0.038071\n",
      "Train Epoch: 4 [12800/60000 (21%)]\tLoss: 0.020815\n",
      "Train Epoch: 4 [19200/60000 (32%)]\tLoss: 0.175291\n",
      "Train Epoch: 4 [25600/60000 (43%)]\tLoss: 0.043169\n",
      "Train Epoch: 4 [32000/60000 (53%)]\tLoss: 0.101865\n",
      "Train Epoch: 4 [38400/60000 (64%)]\tLoss: 0.099598\n",
      "Train Epoch: 4 [44800/60000 (75%)]\tLoss: 0.127940\n",
      "Train Epoch: 4 [51200/60000 (85%)]\tLoss: 0.079710\n",
      "Train Epoch: 4 [57600/60000 (96%)]\tLoss: 0.352152\n",
      "\n",
      "Test set: Average loss: 0.0003, Accuracy: 9870/10000 (99%)\n",
      "\n",
      "Train Epoch: 5 [0/60000 (0%)]\tLoss: 0.078428\n",
      "Train Epoch: 5 [6400/60000 (11%)]\tLoss: 0.110419\n",
      "Train Epoch: 5 [12800/60000 (21%)]\tLoss: 0.061252\n",
      "Train Epoch: 5 [19200/60000 (32%)]\tLoss: 0.100747\n",
      "Train Epoch: 5 [25600/60000 (43%)]\tLoss: 0.015892\n",
      "Train Epoch: 5 [32000/60000 (53%)]\tLoss: 0.356868\n",
      "Train Epoch: 5 [38400/60000 (64%)]\tLoss: 0.069826\n",
      "Train Epoch: 5 [44800/60000 (75%)]\tLoss: 0.103161\n",
      "Train Epoch: 5 [51200/60000 (85%)]\tLoss: 0.087059\n",
      "Train Epoch: 5 [57600/60000 (96%)]\tLoss: 0.077197\n"
     ]
    },
    {
     "name": "stderr",
     "output_type": "stream",
     "text": [
      "\u001b[32m[I 2022-08-08 20:05:28,658]\u001b[0m Trial 6 finished with value: 98.85 and parameters: {'train_batch_size': 64, 'test_batch_size': 128, 'lr': 0.0021752022484455747, 'momentum': 0.8969680331951099, 'optimizer': <class 'torch.optim.adam.Adam'>, 'out_channels1': 16, 'out_channels2': 32, 'prob1': 0.29733475394544656, 'prob2': 0.4797836668176265, 'prob3': 0.27444446784310084, 'hidden1': 64}. Best is trial 0 with value: 99.02.\u001b[0m\n"
     ]
    },
    {
     "name": "stdout",
     "output_type": "stream",
     "text": [
      "\n",
      "Test set: Average loss: 0.0003, Accuracy: 9885/10000 (99%)\n",
      "\n",
      "Train Epoch: 1 [0/60000 (0%)]\tLoss: 2.298706\n"
     ]
    },
    {
     "name": "stderr",
     "output_type": "stream",
     "text": [
      "c:\\Anaconda3\\lib\\site-packages\\optuna\\distributions.py:427: UserWarning: Choices for a categorical distribution should be a tuple of None, bool, int, float and str for persistent storage but contains <class 'torch.optim.radam.RAdam'> which is of type type.\n",
      "  warnings.warn(message)\n",
      "c:\\Anaconda3\\lib\\site-packages\\optuna\\distributions.py:427: UserWarning: Choices for a categorical distribution should be a tuple of None, bool, int, float and str for persistent storage but contains <class 'torch.optim.rmsprop.RMSprop'> which is of type type.\n",
      "  warnings.warn(message)\n",
      "c:\\Anaconda3\\lib\\site-packages\\optuna\\distributions.py:427: UserWarning: Choices for a categorical distribution should be a tuple of None, bool, int, float and str for persistent storage but contains <class 'torch.optim.adam.Adam'> which is of type type.\n",
      "  warnings.warn(message)\n"
     ]
    },
    {
     "name": "stdout",
     "output_type": "stream",
     "text": [
      "Train Epoch: 1 [12800/60000 (21%)]\tLoss: 0.575623\n",
      "Train Epoch: 1 [25600/60000 (43%)]\tLoss: 0.296865\n",
      "Train Epoch: 1 [38400/60000 (64%)]\tLoss: 0.175076\n",
      "Train Epoch: 1 [51200/60000 (85%)]\tLoss: 0.149655\n",
      "\n",
      "Test set: Average loss: 0.0005, Accuracy: 9770/10000 (98%)\n",
      "\n",
      "Train Epoch: 2 [0/60000 (0%)]\tLoss: 0.307905\n",
      "Train Epoch: 2 [12800/60000 (21%)]\tLoss: 0.202525\n",
      "Train Epoch: 2 [25600/60000 (43%)]\tLoss: 0.077076\n",
      "Train Epoch: 2 [38400/60000 (64%)]\tLoss: 0.080430\n",
      "Train Epoch: 2 [51200/60000 (85%)]\tLoss: 0.207200\n",
      "\n",
      "Test set: Average loss: 0.0004, Accuracy: 9828/10000 (98%)\n",
      "\n",
      "Train Epoch: 3 [0/60000 (0%)]\tLoss: 0.104688\n",
      "Train Epoch: 3 [12800/60000 (21%)]\tLoss: 0.071118\n",
      "Train Epoch: 3 [25600/60000 (43%)]\tLoss: 0.123023\n",
      "Train Epoch: 3 [38400/60000 (64%)]\tLoss: 0.203228\n",
      "Train Epoch: 3 [51200/60000 (85%)]\tLoss: 0.132924\n",
      "\n",
      "Test set: Average loss: 0.0004, Accuracy: 9840/10000 (98%)\n",
      "\n",
      "Train Epoch: 4 [0/60000 (0%)]\tLoss: 0.019128\n",
      "Train Epoch: 4 [12800/60000 (21%)]\tLoss: 0.092796\n",
      "Train Epoch: 4 [25600/60000 (43%)]\tLoss: 0.022776\n",
      "Train Epoch: 4 [38400/60000 (64%)]\tLoss: 0.206348\n",
      "Train Epoch: 4 [51200/60000 (85%)]\tLoss: 0.124789\n",
      "\n",
      "Test set: Average loss: 0.0003, Accuracy: 9865/10000 (99%)\n",
      "\n",
      "Train Epoch: 5 [0/60000 (0%)]\tLoss: 0.027809\n",
      "Train Epoch: 5 [12800/60000 (21%)]\tLoss: 0.139108\n",
      "Train Epoch: 5 [25600/60000 (43%)]\tLoss: 0.110489\n",
      "Train Epoch: 5 [38400/60000 (64%)]\tLoss: 0.150391\n",
      "Train Epoch: 5 [51200/60000 (85%)]\tLoss: 0.205826\n"
     ]
    },
    {
     "name": "stderr",
     "output_type": "stream",
     "text": [
      "\u001b[32m[I 2022-08-08 20:06:11,088]\u001b[0m Trial 7 finished with value: 98.77 and parameters: {'train_batch_size': 128, 'test_batch_size': 128, 'lr': 0.006866354059050057, 'momentum': 0.8558903695388249, 'optimizer': <class 'torch.optim.radam.RAdam'>, 'out_channels1': 64, 'out_channels2': 32, 'prob1': 0.4327045703172899, 'prob2': 0.29431343693980955, 'prob3': 0.3521549221254967, 'hidden1': 64}. Best is trial 0 with value: 99.02.\u001b[0m\n"
     ]
    },
    {
     "name": "stdout",
     "output_type": "stream",
     "text": [
      "\n",
      "Test set: Average loss: 0.0003, Accuracy: 9877/10000 (99%)\n",
      "\n",
      "Train Epoch: 1 [0/60000 (0%)]\tLoss: 2.306951\n"
     ]
    },
    {
     "name": "stderr",
     "output_type": "stream",
     "text": [
      "c:\\Anaconda3\\lib\\site-packages\\optuna\\distributions.py:427: UserWarning: Choices for a categorical distribution should be a tuple of None, bool, int, float and str for persistent storage but contains <class 'torch.optim.radam.RAdam'> which is of type type.\n",
      "  warnings.warn(message)\n",
      "c:\\Anaconda3\\lib\\site-packages\\optuna\\distributions.py:427: UserWarning: Choices for a categorical distribution should be a tuple of None, bool, int, float and str for persistent storage but contains <class 'torch.optim.rmsprop.RMSprop'> which is of type type.\n",
      "  warnings.warn(message)\n",
      "c:\\Anaconda3\\lib\\site-packages\\optuna\\distributions.py:427: UserWarning: Choices for a categorical distribution should be a tuple of None, bool, int, float and str for persistent storage but contains <class 'torch.optim.adam.Adam'> which is of type type.\n",
      "  warnings.warn(message)\n"
     ]
    },
    {
     "name": "stdout",
     "output_type": "stream",
     "text": [
      "Train Epoch: 1 [12800/60000 (21%)]\tLoss: 0.759058\n",
      "Train Epoch: 1 [25600/60000 (43%)]\tLoss: 0.463302\n",
      "Train Epoch: 1 [38400/60000 (64%)]\tLoss: 0.156962\n",
      "Train Epoch: 1 [51200/60000 (85%)]\tLoss: 0.300373\n",
      "\n",
      "Test set: Average loss: 0.0019, Accuracy: 9607/10000 (96%)\n",
      "\n",
      "Train Epoch: 2 [0/60000 (0%)]\tLoss: 0.213759\n",
      "Train Epoch: 2 [12800/60000 (21%)]\tLoss: 0.243167\n",
      "Train Epoch: 2 [25600/60000 (43%)]\tLoss: 0.161254\n",
      "Train Epoch: 2 [38400/60000 (64%)]\tLoss: 0.405653\n",
      "Train Epoch: 2 [51200/60000 (85%)]\tLoss: 0.125571\n",
      "\n",
      "Test set: Average loss: 0.0013, Accuracy: 9700/10000 (97%)\n",
      "\n",
      "Train Epoch: 3 [0/60000 (0%)]\tLoss: 0.151096\n",
      "Train Epoch: 3 [12800/60000 (21%)]\tLoss: 0.181489\n",
      "Train Epoch: 3 [25600/60000 (43%)]\tLoss: 0.347629\n",
      "Train Epoch: 3 [38400/60000 (64%)]\tLoss: 0.201367\n",
      "Train Epoch: 3 [51200/60000 (85%)]\tLoss: 0.118993\n",
      "\n",
      "Test set: Average loss: 0.0010, Accuracy: 9781/10000 (98%)\n",
      "\n",
      "Train Epoch: 4 [0/60000 (0%)]\tLoss: 0.242395\n",
      "Train Epoch: 4 [12800/60000 (21%)]\tLoss: 0.119846\n",
      "Train Epoch: 4 [25600/60000 (43%)]\tLoss: 0.120650\n",
      "Train Epoch: 4 [38400/60000 (64%)]\tLoss: 0.077400\n",
      "Train Epoch: 4 [51200/60000 (85%)]\tLoss: 0.174087\n",
      "\n",
      "Test set: Average loss: 0.0008, Accuracy: 9819/10000 (98%)\n",
      "\n",
      "Train Epoch: 5 [0/60000 (0%)]\tLoss: 0.082380\n",
      "Train Epoch: 5 [12800/60000 (21%)]\tLoss: 0.206366\n",
      "Train Epoch: 5 [25600/60000 (43%)]\tLoss: 0.123044\n",
      "Train Epoch: 5 [38400/60000 (64%)]\tLoss: 0.094717\n",
      "Train Epoch: 5 [51200/60000 (85%)]\tLoss: 0.131278\n"
     ]
    },
    {
     "name": "stderr",
     "output_type": "stream",
     "text": [
      "\u001b[32m[I 2022-08-08 20:06:52,738]\u001b[0m Trial 8 finished with value: 98.39 and parameters: {'train_batch_size': 128, 'test_batch_size': 64, 'lr': 0.004496781966139664, 'momentum': 0.420487032660392, 'optimizer': <class 'torch.optim.radam.RAdam'>, 'out_channels1': 16, 'out_channels2': 16, 'prob1': 0.3896318613823224, 'prob2': 0.4937285636682606, 'prob3': 0.2074229881607425, 'hidden1': 128}. Best is trial 0 with value: 99.02.\u001b[0m\n"
     ]
    },
    {
     "name": "stdout",
     "output_type": "stream",
     "text": [
      "\n",
      "Test set: Average loss: 0.0008, Accuracy: 9839/10000 (98%)\n",
      "\n",
      "Train Epoch: 1 [0/60000 (0%)]\tLoss: 2.305788\n"
     ]
    },
    {
     "name": "stderr",
     "output_type": "stream",
     "text": [
      "c:\\Anaconda3\\lib\\site-packages\\optuna\\distributions.py:427: UserWarning: Choices for a categorical distribution should be a tuple of None, bool, int, float and str for persistent storage but contains <class 'torch.optim.radam.RAdam'> which is of type type.\n",
      "  warnings.warn(message)\n",
      "c:\\Anaconda3\\lib\\site-packages\\optuna\\distributions.py:427: UserWarning: Choices for a categorical distribution should be a tuple of None, bool, int, float and str for persistent storage but contains <class 'torch.optim.rmsprop.RMSprop'> which is of type type.\n",
      "  warnings.warn(message)\n",
      "c:\\Anaconda3\\lib\\site-packages\\optuna\\distributions.py:427: UserWarning: Choices for a categorical distribution should be a tuple of None, bool, int, float and str for persistent storage but contains <class 'torch.optim.adam.Adam'> which is of type type.\n",
      "  warnings.warn(message)\n"
     ]
    },
    {
     "name": "stdout",
     "output_type": "stream",
     "text": [
      "Train Epoch: 1 [25600/60000 (43%)]\tLoss: 0.504938\n",
      "Train Epoch: 1 [51200/60000 (85%)]\tLoss: 0.291192\n",
      "\n",
      "Test set: Average loss: 0.0021, Accuracy: 9567/10000 (96%)\n",
      "\n",
      "Train Epoch: 2 [0/60000 (0%)]\tLoss: 0.277297\n",
      "Train Epoch: 2 [25600/60000 (43%)]\tLoss: 0.187550\n",
      "Train Epoch: 2 [51200/60000 (85%)]\tLoss: 0.184483\n",
      "\n",
      "Test set: Average loss: 0.0012, Accuracy: 9759/10000 (98%)\n",
      "\n",
      "Train Epoch: 3 [0/60000 (0%)]\tLoss: 0.163770\n",
      "Train Epoch: 3 [25600/60000 (43%)]\tLoss: 0.127472\n",
      "Train Epoch: 3 [51200/60000 (85%)]\tLoss: 0.171069\n",
      "\n",
      "Test set: Average loss: 0.0009, Accuracy: 9840/10000 (98%)\n",
      "\n",
      "Train Epoch: 4 [0/60000 (0%)]\tLoss: 0.131054\n",
      "Train Epoch: 4 [25600/60000 (43%)]\tLoss: 0.153247\n",
      "Train Epoch: 4 [51200/60000 (85%)]\tLoss: 0.125694\n",
      "\n",
      "Test set: Average loss: 0.0008, Accuracy: 9820/10000 (98%)\n",
      "\n",
      "Train Epoch: 5 [0/60000 (0%)]\tLoss: 0.065765\n",
      "Train Epoch: 5 [25600/60000 (43%)]\tLoss: 0.122406\n",
      "Train Epoch: 5 [51200/60000 (85%)]\tLoss: 0.150342\n"
     ]
    },
    {
     "name": "stderr",
     "output_type": "stream",
     "text": [
      "\u001b[32m[I 2022-08-08 20:07:30,198]\u001b[0m Trial 9 finished with value: 98.59 and parameters: {'train_batch_size': 256, 'test_batch_size': 64, 'lr': 0.002275077814573021, 'momentum': 0.9283807828698443, 'optimizer': <class 'torch.optim.rmsprop.RMSprop'>, 'out_channels1': 32, 'out_channels2': 16, 'prob1': 0.41819683813225933, 'prob2': 0.2739757756949725, 'prob3': 0.4195730328594575, 'hidden1': 256}. Best is trial 0 with value: 99.02.\u001b[0m\n"
     ]
    },
    {
     "name": "stdout",
     "output_type": "stream",
     "text": [
      "\n",
      "Test set: Average loss: 0.0007, Accuracy: 9859/10000 (99%)\n",
      "\n",
      "Train Epoch: 1 [0/60000 (0%)]\tLoss: 2.314239\n"
     ]
    },
    {
     "name": "stderr",
     "output_type": "stream",
     "text": [
      "c:\\Anaconda3\\lib\\site-packages\\optuna\\distributions.py:427: UserWarning: Choices for a categorical distribution should be a tuple of None, bool, int, float and str for persistent storage but contains <class 'torch.optim.radam.RAdam'> which is of type type.\n",
      "  warnings.warn(message)\n",
      "c:\\Anaconda3\\lib\\site-packages\\optuna\\distributions.py:427: UserWarning: Choices for a categorical distribution should be a tuple of None, bool, int, float and str for persistent storage but contains <class 'torch.optim.rmsprop.RMSprop'> which is of type type.\n",
      "  warnings.warn(message)\n",
      "c:\\Anaconda3\\lib\\site-packages\\optuna\\distributions.py:427: UserWarning: Choices for a categorical distribution should be a tuple of None, bool, int, float and str for persistent storage but contains <class 'torch.optim.adam.Adam'> which is of type type.\n",
      "  warnings.warn(message)\n"
     ]
    },
    {
     "name": "stdout",
     "output_type": "stream",
     "text": [
      "Train Epoch: 1 [12800/60000 (21%)]\tLoss: 0.811390\n",
      "Train Epoch: 1 [25600/60000 (43%)]\tLoss: 0.488592\n",
      "Train Epoch: 1 [38400/60000 (64%)]\tLoss: 0.218940\n",
      "Train Epoch: 1 [51200/60000 (85%)]\tLoss: 0.296036\n",
      "\n",
      "Test set: Average loss: 0.0005, Accuracy: 9530/10000 (95%)\n",
      "\n",
      "Train Epoch: 2 [0/60000 (0%)]\tLoss: 0.190421\n",
      "Train Epoch: 2 [12800/60000 (21%)]\tLoss: 0.135268\n",
      "Train Epoch: 2 [25600/60000 (43%)]\tLoss: 0.094086\n",
      "Train Epoch: 2 [38400/60000 (64%)]\tLoss: 0.090145\n",
      "Train Epoch: 2 [51200/60000 (85%)]\tLoss: 0.123364\n",
      "\n",
      "Test set: Average loss: 0.0002, Accuracy: 9795/10000 (98%)\n",
      "\n",
      "Train Epoch: 3 [0/60000 (0%)]\tLoss: 0.053925\n",
      "Train Epoch: 3 [12800/60000 (21%)]\tLoss: 0.148910\n",
      "Train Epoch: 3 [25600/60000 (43%)]\tLoss: 0.112046\n",
      "Train Epoch: 3 [38400/60000 (64%)]\tLoss: 0.060634\n",
      "Train Epoch: 3 [51200/60000 (85%)]\tLoss: 0.065331\n",
      "\n",
      "Test set: Average loss: 0.0002, Accuracy: 9848/10000 (98%)\n",
      "\n",
      "Train Epoch: 4 [0/60000 (0%)]\tLoss: 0.132708\n",
      "Train Epoch: 4 [12800/60000 (21%)]\tLoss: 0.095095\n",
      "Train Epoch: 4 [25600/60000 (43%)]\tLoss: 0.082346\n",
      "Train Epoch: 4 [38400/60000 (64%)]\tLoss: 0.167144\n",
      "Train Epoch: 4 [51200/60000 (85%)]\tLoss: 0.034287\n",
      "\n",
      "Test set: Average loss: 0.0001, Accuracy: 9881/10000 (99%)\n",
      "\n",
      "Train Epoch: 5 [0/60000 (0%)]\tLoss: 0.076892\n",
      "Train Epoch: 5 [12800/60000 (21%)]\tLoss: 0.066594\n",
      "Train Epoch: 5 [25600/60000 (43%)]\tLoss: 0.065434\n",
      "Train Epoch: 5 [38400/60000 (64%)]\tLoss: 0.083648\n",
      "Train Epoch: 5 [51200/60000 (85%)]\tLoss: 0.140534\n"
     ]
    },
    {
     "name": "stderr",
     "output_type": "stream",
     "text": [
      "\u001b[32m[I 2022-08-08 20:08:11,356]\u001b[0m Trial 10 finished with value: 98.94 and parameters: {'train_batch_size': 128, 'test_batch_size': 256, 'lr': 0.0011240098530167213, 'momentum': 0.7017341038886893, 'optimizer': <class 'torch.optim.radam.RAdam'>, 'out_channels1': 16, 'out_channels2': 64, 'prob1': 0.2254439842793332, 'prob2': 0.21219538425935727, 'prob3': 0.36230999108062484, 'hidden1': 256}. Best is trial 0 with value: 99.02.\u001b[0m\n"
     ]
    },
    {
     "name": "stdout",
     "output_type": "stream",
     "text": [
      "\n",
      "Test set: Average loss: 0.0001, Accuracy: 9894/10000 (99%)\n",
      "\n",
      "Train Epoch: 1 [0/60000 (0%)]\tLoss: 2.305093\n"
     ]
    },
    {
     "name": "stderr",
     "output_type": "stream",
     "text": [
      "c:\\Anaconda3\\lib\\site-packages\\optuna\\distributions.py:427: UserWarning: Choices for a categorical distribution should be a tuple of None, bool, int, float and str for persistent storage but contains <class 'torch.optim.radam.RAdam'> which is of type type.\n",
      "  warnings.warn(message)\n",
      "c:\\Anaconda3\\lib\\site-packages\\optuna\\distributions.py:427: UserWarning: Choices for a categorical distribution should be a tuple of None, bool, int, float and str for persistent storage but contains <class 'torch.optim.rmsprop.RMSprop'> which is of type type.\n",
      "  warnings.warn(message)\n",
      "c:\\Anaconda3\\lib\\site-packages\\optuna\\distributions.py:427: UserWarning: Choices for a categorical distribution should be a tuple of None, bool, int, float and str for persistent storage but contains <class 'torch.optim.adam.Adam'> which is of type type.\n",
      "  warnings.warn(message)\n"
     ]
    },
    {
     "name": "stdout",
     "output_type": "stream",
     "text": [
      "Train Epoch: 1 [12800/60000 (21%)]\tLoss: 1.016457\n",
      "Train Epoch: 1 [25600/60000 (43%)]\tLoss: 0.545057\n",
      "Train Epoch: 1 [38400/60000 (64%)]\tLoss: 0.400408\n",
      "Train Epoch: 1 [51200/60000 (85%)]\tLoss: 0.265257\n",
      "\n",
      "Test set: Average loss: 0.0006, Accuracy: 9544/10000 (95%)\n",
      "\n",
      "Train Epoch: 2 [0/60000 (0%)]\tLoss: 0.224889\n",
      "Train Epoch: 2 [12800/60000 (21%)]\tLoss: 0.113205\n",
      "Train Epoch: 2 [25600/60000 (43%)]\tLoss: 0.114629\n",
      "Train Epoch: 2 [38400/60000 (64%)]\tLoss: 0.152872\n",
      "Train Epoch: 2 [51200/60000 (85%)]\tLoss: 0.238285\n",
      "\n",
      "Test set: Average loss: 0.0002, Accuracy: 9810/10000 (98%)\n",
      "\n",
      "Train Epoch: 3 [0/60000 (0%)]\tLoss: 0.071892\n",
      "Train Epoch: 3 [12800/60000 (21%)]\tLoss: 0.061091\n",
      "Train Epoch: 3 [25600/60000 (43%)]\tLoss: 0.158067\n",
      "Train Epoch: 3 [38400/60000 (64%)]\tLoss: 0.049901\n",
      "Train Epoch: 3 [51200/60000 (85%)]\tLoss: 0.015044\n",
      "\n",
      "Test set: Average loss: 0.0002, Accuracy: 9846/10000 (98%)\n",
      "\n",
      "Train Epoch: 4 [0/60000 (0%)]\tLoss: 0.099520\n",
      "Train Epoch: 4 [12800/60000 (21%)]\tLoss: 0.072028\n",
      "Train Epoch: 4 [25600/60000 (43%)]\tLoss: 0.047642\n",
      "Train Epoch: 4 [38400/60000 (64%)]\tLoss: 0.082694\n",
      "Train Epoch: 4 [51200/60000 (85%)]\tLoss: 0.093222\n",
      "\n",
      "Test set: Average loss: 0.0002, Accuracy: 9862/10000 (99%)\n",
      "\n",
      "Train Epoch: 5 [0/60000 (0%)]\tLoss: 0.040673\n",
      "Train Epoch: 5 [12800/60000 (21%)]\tLoss: 0.042955\n",
      "Train Epoch: 5 [25600/60000 (43%)]\tLoss: 0.115933\n",
      "Train Epoch: 5 [38400/60000 (64%)]\tLoss: 0.055843\n",
      "Train Epoch: 5 [51200/60000 (85%)]\tLoss: 0.080426\n"
     ]
    },
    {
     "name": "stderr",
     "output_type": "stream",
     "text": [
      "\u001b[32m[I 2022-08-08 20:08:52,572]\u001b[0m Trial 11 finished with value: 98.88 and parameters: {'train_batch_size': 128, 'test_batch_size': 256, 'lr': 0.0010179052119993512, 'momentum': 0.7223078223835823, 'optimizer': <class 'torch.optim.radam.RAdam'>, 'out_channels1': 16, 'out_channels2': 64, 'prob1': 0.20070363651350284, 'prob2': 0.20074151246839697, 'prob3': 0.3689375874356092, 'hidden1': 256}. Best is trial 0 with value: 99.02.\u001b[0m\n"
     ]
    },
    {
     "name": "stdout",
     "output_type": "stream",
     "text": [
      "\n",
      "Test set: Average loss: 0.0001, Accuracy: 9888/10000 (99%)\n",
      "\n",
      "Train Epoch: 1 [0/60000 (0%)]\tLoss: 2.297503\n"
     ]
    },
    {
     "name": "stderr",
     "output_type": "stream",
     "text": [
      "c:\\Anaconda3\\lib\\site-packages\\optuna\\distributions.py:427: UserWarning: Choices for a categorical distribution should be a tuple of None, bool, int, float and str for persistent storage but contains <class 'torch.optim.radam.RAdam'> which is of type type.\n",
      "  warnings.warn(message)\n",
      "c:\\Anaconda3\\lib\\site-packages\\optuna\\distributions.py:427: UserWarning: Choices for a categorical distribution should be a tuple of None, bool, int, float and str for persistent storage but contains <class 'torch.optim.rmsprop.RMSprop'> which is of type type.\n",
      "  warnings.warn(message)\n",
      "c:\\Anaconda3\\lib\\site-packages\\optuna\\distributions.py:427: UserWarning: Choices for a categorical distribution should be a tuple of None, bool, int, float and str for persistent storage but contains <class 'torch.optim.adam.Adam'> which is of type type.\n",
      "  warnings.warn(message)\n"
     ]
    },
    {
     "name": "stdout",
     "output_type": "stream",
     "text": [
      "Train Epoch: 1 [12800/60000 (21%)]\tLoss: 0.655272\n",
      "Train Epoch: 1 [25600/60000 (43%)]\tLoss: 0.452121\n",
      "Train Epoch: 1 [38400/60000 (64%)]\tLoss: 0.295456\n",
      "Train Epoch: 1 [51200/60000 (85%)]\tLoss: 0.154979\n",
      "\n",
      "Test set: Average loss: 0.0005, Accuracy: 9620/10000 (96%)\n",
      "\n",
      "Train Epoch: 2 [0/60000 (0%)]\tLoss: 0.092917\n",
      "Train Epoch: 2 [12800/60000 (21%)]\tLoss: 0.152876\n",
      "Train Epoch: 2 [25600/60000 (43%)]\tLoss: 0.077073\n",
      "Train Epoch: 2 [38400/60000 (64%)]\tLoss: 0.096261\n",
      "Train Epoch: 2 [51200/60000 (85%)]\tLoss: 0.044954\n",
      "\n",
      "Test set: Average loss: 0.0002, Accuracy: 9801/10000 (98%)\n",
      "\n",
      "Train Epoch: 3 [0/60000 (0%)]\tLoss: 0.133707\n",
      "Train Epoch: 3 [12800/60000 (21%)]\tLoss: 0.121977\n",
      "Train Epoch: 3 [25600/60000 (43%)]\tLoss: 0.074765\n",
      "Train Epoch: 3 [38400/60000 (64%)]\tLoss: 0.138606\n",
      "Train Epoch: 3 [51200/60000 (85%)]\tLoss: 0.107973\n",
      "\n",
      "Test set: Average loss: 0.0002, Accuracy: 9859/10000 (99%)\n",
      "\n",
      "Train Epoch: 4 [0/60000 (0%)]\tLoss: 0.055762\n",
      "Train Epoch: 4 [12800/60000 (21%)]\tLoss: 0.066414\n",
      "Train Epoch: 4 [25600/60000 (43%)]\tLoss: 0.012990\n",
      "Train Epoch: 4 [38400/60000 (64%)]\tLoss: 0.118110\n",
      "Train Epoch: 4 [51200/60000 (85%)]\tLoss: 0.066564\n",
      "\n",
      "Test set: Average loss: 0.0001, Accuracy: 9898/10000 (99%)\n",
      "\n",
      "Train Epoch: 5 [0/60000 (0%)]\tLoss: 0.094524\n",
      "Train Epoch: 5 [12800/60000 (21%)]\tLoss: 0.027062\n",
      "Train Epoch: 5 [25600/60000 (43%)]\tLoss: 0.022916\n",
      "Train Epoch: 5 [38400/60000 (64%)]\tLoss: 0.028722\n",
      "Train Epoch: 5 [51200/60000 (85%)]\tLoss: 0.075987\n"
     ]
    },
    {
     "name": "stderr",
     "output_type": "stream",
     "text": [
      "\u001b[32m[I 2022-08-08 20:09:33,912]\u001b[0m Trial 12 finished with value: 98.8 and parameters: {'train_batch_size': 128, 'test_batch_size': 256, 'lr': 0.0010909009072298693, 'momentum': 0.5898841393915872, 'optimizer': <class 'torch.optim.radam.RAdam'>, 'out_channels1': 16, 'out_channels2': 64, 'prob1': 0.20097023853698176, 'prob2': 0.2542582567025402, 'prob3': 0.3857756653377118, 'hidden1': 256}. Best is trial 0 with value: 99.02.\u001b[0m\n"
     ]
    },
    {
     "name": "stdout",
     "output_type": "stream",
     "text": [
      "\n",
      "Test set: Average loss: 0.0001, Accuracy: 9880/10000 (99%)\n",
      "\n",
      "Train Epoch: 1 [0/60000 (0%)]\tLoss: 2.298015\n"
     ]
    },
    {
     "name": "stderr",
     "output_type": "stream",
     "text": [
      "c:\\Anaconda3\\lib\\site-packages\\optuna\\distributions.py:427: UserWarning: Choices for a categorical distribution should be a tuple of None, bool, int, float and str for persistent storage but contains <class 'torch.optim.radam.RAdam'> which is of type type.\n",
      "  warnings.warn(message)\n",
      "c:\\Anaconda3\\lib\\site-packages\\optuna\\distributions.py:427: UserWarning: Choices for a categorical distribution should be a tuple of None, bool, int, float and str for persistent storage but contains <class 'torch.optim.rmsprop.RMSprop'> which is of type type.\n",
      "  warnings.warn(message)\n",
      "c:\\Anaconda3\\lib\\site-packages\\optuna\\distributions.py:427: UserWarning: Choices for a categorical distribution should be a tuple of None, bool, int, float and str for persistent storage but contains <class 'torch.optim.adam.Adam'> which is of type type.\n",
      "  warnings.warn(message)\n"
     ]
    },
    {
     "name": "stdout",
     "output_type": "stream",
     "text": [
      "Train Epoch: 1 [12800/60000 (21%)]\tLoss: 0.680921\n",
      "Train Epoch: 1 [25600/60000 (43%)]\tLoss: 0.544003\n",
      "Train Epoch: 1 [38400/60000 (64%)]\tLoss: 0.201444\n",
      "Train Epoch: 1 [51200/60000 (85%)]\tLoss: 0.276278\n",
      "\n",
      "Test set: Average loss: 0.0005, Accuracy: 9640/10000 (96%)\n",
      "\n",
      "Train Epoch: 2 [0/60000 (0%)]\tLoss: 0.175880\n",
      "Train Epoch: 2 [12800/60000 (21%)]\tLoss: 0.183784\n",
      "Train Epoch: 2 [25600/60000 (43%)]\tLoss: 0.163016\n",
      "Train Epoch: 2 [38400/60000 (64%)]\tLoss: 0.125652\n",
      "Train Epoch: 2 [51200/60000 (85%)]\tLoss: 0.176518\n",
      "\n",
      "Test set: Average loss: 0.0002, Accuracy: 9823/10000 (98%)\n",
      "\n",
      "Train Epoch: 3 [0/60000 (0%)]\tLoss: 0.043145\n",
      "Train Epoch: 3 [12800/60000 (21%)]\tLoss: 0.089959\n",
      "Train Epoch: 3 [25600/60000 (43%)]\tLoss: 0.032941\n",
      "Train Epoch: 3 [38400/60000 (64%)]\tLoss: 0.085416\n",
      "Train Epoch: 3 [51200/60000 (85%)]\tLoss: 0.152291\n",
      "\n",
      "Test set: Average loss: 0.0002, Accuracy: 9861/10000 (99%)\n",
      "\n",
      "Train Epoch: 4 [0/60000 (0%)]\tLoss: 0.053945\n",
      "Train Epoch: 4 [12800/60000 (21%)]\tLoss: 0.064742\n",
      "Train Epoch: 4 [25600/60000 (43%)]\tLoss: 0.082765\n",
      "Train Epoch: 4 [38400/60000 (64%)]\tLoss: 0.053155\n",
      "Train Epoch: 4 [51200/60000 (85%)]\tLoss: 0.071318\n",
      "\n",
      "Test set: Average loss: 0.0001, Accuracy: 9886/10000 (99%)\n",
      "\n",
      "Train Epoch: 5 [0/60000 (0%)]\tLoss: 0.034641\n",
      "Train Epoch: 5 [12800/60000 (21%)]\tLoss: 0.104747\n",
      "Train Epoch: 5 [25600/60000 (43%)]\tLoss: 0.061516\n",
      "Train Epoch: 5 [38400/60000 (64%)]\tLoss: 0.072489\n",
      "Train Epoch: 5 [51200/60000 (85%)]\tLoss: 0.087585\n"
     ]
    },
    {
     "name": "stderr",
     "output_type": "stream",
     "text": [
      "\u001b[32m[I 2022-08-08 20:10:15,202]\u001b[0m Trial 13 finished with value: 98.83 and parameters: {'train_batch_size': 128, 'test_batch_size': 256, 'lr': 0.0015072399383461131, 'momentum': 0.7740270403565286, 'optimizer': <class 'torch.optim.radam.RAdam'>, 'out_channels1': 16, 'out_channels2': 64, 'prob1': 0.27489053367179567, 'prob2': 0.40725163768987893, 'prob3': 0.31669881185166276, 'hidden1': 256}. Best is trial 0 with value: 99.02.\u001b[0m\n"
     ]
    },
    {
     "name": "stdout",
     "output_type": "stream",
     "text": [
      "\n",
      "Test set: Average loss: 0.0001, Accuracy: 9883/10000 (99%)\n",
      "\n",
      "Train Epoch: 1 [0/60000 (0%)]\tLoss: 2.304521\n"
     ]
    },
    {
     "name": "stderr",
     "output_type": "stream",
     "text": [
      "c:\\Anaconda3\\lib\\site-packages\\optuna\\distributions.py:427: UserWarning: Choices for a categorical distribution should be a tuple of None, bool, int, float and str for persistent storage but contains <class 'torch.optim.radam.RAdam'> which is of type type.\n",
      "  warnings.warn(message)\n",
      "c:\\Anaconda3\\lib\\site-packages\\optuna\\distributions.py:427: UserWarning: Choices for a categorical distribution should be a tuple of None, bool, int, float and str for persistent storage but contains <class 'torch.optim.rmsprop.RMSprop'> which is of type type.\n",
      "  warnings.warn(message)\n",
      "c:\\Anaconda3\\lib\\site-packages\\optuna\\distributions.py:427: UserWarning: Choices for a categorical distribution should be a tuple of None, bool, int, float and str for persistent storage but contains <class 'torch.optim.adam.Adam'> which is of type type.\n",
      "  warnings.warn(message)\n"
     ]
    },
    {
     "name": "stdout",
     "output_type": "stream",
     "text": [
      "Train Epoch: 1 [12800/60000 (21%)]\tLoss: 0.345148\n",
      "Train Epoch: 1 [25600/60000 (43%)]\tLoss: 0.162743\n",
      "Train Epoch: 1 [38400/60000 (64%)]\tLoss: 0.218231\n",
      "Train Epoch: 1 [51200/60000 (85%)]\tLoss: 0.094357\n",
      "\n",
      "Test set: Average loss: 0.0003, Accuracy: 9747/10000 (97%)\n",
      "\n",
      "Train Epoch: 2 [0/60000 (0%)]\tLoss: 0.137335\n",
      "Train Epoch: 2 [12800/60000 (21%)]\tLoss: 0.239197\n",
      "Train Epoch: 2 [25600/60000 (43%)]\tLoss: 0.094927\n",
      "Train Epoch: 2 [38400/60000 (64%)]\tLoss: 0.020137\n",
      "Train Epoch: 2 [51200/60000 (85%)]\tLoss: 0.057088\n",
      "\n",
      "Test set: Average loss: 0.0002, Accuracy: 9808/10000 (98%)\n",
      "\n",
      "Train Epoch: 3 [0/60000 (0%)]\tLoss: 0.045166\n",
      "Train Epoch: 3 [12800/60000 (21%)]\tLoss: 0.098723\n",
      "Train Epoch: 3 [25600/60000 (43%)]\tLoss: 0.038769\n",
      "Train Epoch: 3 [38400/60000 (64%)]\tLoss: 0.059522\n",
      "Train Epoch: 3 [51200/60000 (85%)]\tLoss: 0.197383\n",
      "\n",
      "Test set: Average loss: 0.0002, Accuracy: 9864/10000 (99%)\n",
      "\n",
      "Train Epoch: 4 [0/60000 (0%)]\tLoss: 0.079735\n",
      "Train Epoch: 4 [12800/60000 (21%)]\tLoss: 0.059376\n",
      "Train Epoch: 4 [25600/60000 (43%)]\tLoss: 0.036292\n",
      "Train Epoch: 4 [38400/60000 (64%)]\tLoss: 0.062729\n",
      "Train Epoch: 4 [51200/60000 (85%)]\tLoss: 0.101805\n",
      "\n",
      "Test set: Average loss: 0.0001, Accuracy: 9882/10000 (99%)\n",
      "\n",
      "Train Epoch: 5 [0/60000 (0%)]\tLoss: 0.046923\n",
      "Train Epoch: 5 [12800/60000 (21%)]\tLoss: 0.054984\n",
      "Train Epoch: 5 [25600/60000 (43%)]\tLoss: 0.029431\n",
      "Train Epoch: 5 [38400/60000 (64%)]\tLoss: 0.083004\n",
      "Train Epoch: 5 [51200/60000 (85%)]\tLoss: 0.077759\n"
     ]
    },
    {
     "name": "stderr",
     "output_type": "stream",
     "text": [
      "\u001b[32m[I 2022-08-08 20:10:56,190]\u001b[0m Trial 14 finished with value: 98.77 and parameters: {'train_batch_size': 128, 'test_batch_size': 256, 'lr': 0.004222060423749639, 'momentum': 0.6484440347560189, 'optimizer': <class 'torch.optim.radam.RAdam'>, 'out_channels1': 16, 'out_channels2': 64, 'prob1': 0.3236192127583273, 'prob2': 0.2454307323189835, 'prob3': 0.3953689103931352, 'hidden1': 256}. Best is trial 0 with value: 99.02.\u001b[0m\n"
     ]
    },
    {
     "name": "stdout",
     "output_type": "stream",
     "text": [
      "\n",
      "Test set: Average loss: 0.0002, Accuracy: 9877/10000 (99%)\n",
      "\n",
      "Train Epoch: 1 [0/60000 (0%)]\tLoss: 2.303610\n"
     ]
    },
    {
     "name": "stderr",
     "output_type": "stream",
     "text": [
      "c:\\Anaconda3\\lib\\site-packages\\optuna\\distributions.py:427: UserWarning: Choices for a categorical distribution should be a tuple of None, bool, int, float and str for persistent storage but contains <class 'torch.optim.radam.RAdam'> which is of type type.\n",
      "  warnings.warn(message)\n",
      "c:\\Anaconda3\\lib\\site-packages\\optuna\\distributions.py:427: UserWarning: Choices for a categorical distribution should be a tuple of None, bool, int, float and str for persistent storage but contains <class 'torch.optim.rmsprop.RMSprop'> which is of type type.\n",
      "  warnings.warn(message)\n",
      "c:\\Anaconda3\\lib\\site-packages\\optuna\\distributions.py:427: UserWarning: Choices for a categorical distribution should be a tuple of None, bool, int, float and str for persistent storage but contains <class 'torch.optim.adam.Adam'> which is of type type.\n",
      "  warnings.warn(message)\n"
     ]
    },
    {
     "name": "stdout",
     "output_type": "stream",
     "text": [
      "Train Epoch: 1 [12800/60000 (21%)]\tLoss: 0.629650\n",
      "Train Epoch: 1 [25600/60000 (43%)]\tLoss: 0.239309\n",
      "Train Epoch: 1 [38400/60000 (64%)]\tLoss: 0.350312\n",
      "Train Epoch: 1 [51200/60000 (85%)]\tLoss: 0.120461\n",
      "\n",
      "Test set: Average loss: 0.0004, Accuracy: 9669/10000 (97%)\n",
      "\n",
      "Train Epoch: 2 [0/60000 (0%)]\tLoss: 0.157375\n",
      "Train Epoch: 2 [12800/60000 (21%)]\tLoss: 0.096807\n",
      "Train Epoch: 2 [25600/60000 (43%)]\tLoss: 0.074186\n",
      "Train Epoch: 2 [38400/60000 (64%)]\tLoss: 0.093298\n",
      "Train Epoch: 2 [51200/60000 (85%)]\tLoss: 0.082202\n",
      "\n",
      "Test set: Average loss: 0.0003, Accuracy: 9786/10000 (98%)\n",
      "\n",
      "Train Epoch: 3 [0/60000 (0%)]\tLoss: 0.115494\n",
      "Train Epoch: 3 [12800/60000 (21%)]\tLoss: 0.097757\n",
      "Train Epoch: 3 [25600/60000 (43%)]\tLoss: 0.095833\n",
      "Train Epoch: 3 [38400/60000 (64%)]\tLoss: 0.105045\n",
      "Train Epoch: 3 [51200/60000 (85%)]\tLoss: 0.077008\n",
      "\n",
      "Test set: Average loss: 0.0002, Accuracy: 9844/10000 (98%)\n",
      "\n",
      "Train Epoch: 4 [0/60000 (0%)]\tLoss: 0.110309\n",
      "Train Epoch: 4 [12800/60000 (21%)]\tLoss: 0.122109\n",
      "Train Epoch: 4 [25600/60000 (43%)]\tLoss: 0.235214\n",
      "Train Epoch: 4 [38400/60000 (64%)]\tLoss: 0.163455\n",
      "Train Epoch: 4 [51200/60000 (85%)]\tLoss: 0.096557\n",
      "\n",
      "Test set: Average loss: 0.0002, Accuracy: 9847/10000 (98%)\n",
      "\n",
      "Train Epoch: 5 [0/60000 (0%)]\tLoss: 0.070364\n",
      "Train Epoch: 5 [12800/60000 (21%)]\tLoss: 0.140590\n",
      "Train Epoch: 5 [25600/60000 (43%)]\tLoss: 0.054080\n",
      "Train Epoch: 5 [38400/60000 (64%)]\tLoss: 0.055783\n",
      "Train Epoch: 5 [51200/60000 (85%)]\tLoss: 0.037384\n"
     ]
    },
    {
     "name": "stderr",
     "output_type": "stream",
     "text": [
      "\u001b[32m[I 2022-08-08 20:11:37,243]\u001b[0m Trial 15 finished with value: 98.83 and parameters: {'train_batch_size': 128, 'test_batch_size': 256, 'lr': 0.0027887177960779653, 'momentum': 0.8144518790099673, 'optimizer': <class 'torch.optim.radam.RAdam'>, 'out_channels1': 16, 'out_channels2': 16, 'prob1': 0.23864206224518766, 'prob2': 0.2993553046753705, 'prob3': 0.329688666012933, 'hidden1': 256}. Best is trial 0 with value: 99.02.\u001b[0m\n"
     ]
    },
    {
     "name": "stdout",
     "output_type": "stream",
     "text": [
      "\n",
      "Test set: Average loss: 0.0001, Accuracy: 9883/10000 (99%)\n",
      "\n",
      "Train Epoch: 1 [0/60000 (0%)]\tLoss: 2.296142\n"
     ]
    },
    {
     "name": "stderr",
     "output_type": "stream",
     "text": [
      "c:\\Anaconda3\\lib\\site-packages\\optuna\\distributions.py:427: UserWarning: Choices for a categorical distribution should be a tuple of None, bool, int, float and str for persistent storage but contains <class 'torch.optim.radam.RAdam'> which is of type type.\n",
      "  warnings.warn(message)\n",
      "c:\\Anaconda3\\lib\\site-packages\\optuna\\distributions.py:427: UserWarning: Choices for a categorical distribution should be a tuple of None, bool, int, float and str for persistent storage but contains <class 'torch.optim.rmsprop.RMSprop'> which is of type type.\n",
      "  warnings.warn(message)\n",
      "c:\\Anaconda3\\lib\\site-packages\\optuna\\distributions.py:427: UserWarning: Choices for a categorical distribution should be a tuple of None, bool, int, float and str for persistent storage but contains <class 'torch.optim.adam.Adam'> which is of type type.\n",
      "  warnings.warn(message)\n"
     ]
    },
    {
     "name": "stdout",
     "output_type": "stream",
     "text": [
      "Train Epoch: 1 [6400/60000 (11%)]\tLoss: 2.291110\n",
      "Train Epoch: 1 [12800/60000 (21%)]\tLoss: 1.939518\n",
      "Train Epoch: 1 [19200/60000 (32%)]\tLoss: 1.180272\n",
      "Train Epoch: 1 [25600/60000 (43%)]\tLoss: 0.641670\n",
      "Train Epoch: 1 [32000/60000 (53%)]\tLoss: 0.933212\n",
      "Train Epoch: 1 [38400/60000 (64%)]\tLoss: 0.719804\n",
      "Train Epoch: 1 [44800/60000 (75%)]\tLoss: 0.391736\n",
      "Train Epoch: 1 [51200/60000 (85%)]\tLoss: 0.892633\n",
      "Train Epoch: 1 [57600/60000 (96%)]\tLoss: 0.405668\n",
      "\n",
      "Test set: Average loss: 0.0012, Accuracy: 9528/10000 (95%)\n",
      "\n",
      "Train Epoch: 2 [0/60000 (0%)]\tLoss: 0.196583\n",
      "Train Epoch: 2 [6400/60000 (11%)]\tLoss: 0.528650\n",
      "Train Epoch: 2 [12800/60000 (21%)]\tLoss: 0.464462\n",
      "Train Epoch: 2 [19200/60000 (32%)]\tLoss: 0.302944\n",
      "Train Epoch: 2 [25600/60000 (43%)]\tLoss: 0.348271\n",
      "Train Epoch: 2 [32000/60000 (53%)]\tLoss: 0.412112\n",
      "Train Epoch: 2 [38400/60000 (64%)]\tLoss: 0.625879\n",
      "Train Epoch: 2 [44800/60000 (75%)]\tLoss: 0.230697\n",
      "Train Epoch: 2 [51200/60000 (85%)]\tLoss: 0.633806\n",
      "Train Epoch: 2 [57600/60000 (96%)]\tLoss: 0.431897\n",
      "\n",
      "Test set: Average loss: 0.0009, Accuracy: 9625/10000 (96%)\n",
      "\n",
      "Train Epoch: 3 [0/60000 (0%)]\tLoss: 0.254574\n",
      "Train Epoch: 3 [6400/60000 (11%)]\tLoss: 0.344667\n",
      "Train Epoch: 3 [12800/60000 (21%)]\tLoss: 0.422579\n",
      "Train Epoch: 3 [19200/60000 (32%)]\tLoss: 0.186134\n",
      "Train Epoch: 3 [25600/60000 (43%)]\tLoss: 0.199130\n",
      "Train Epoch: 3 [32000/60000 (53%)]\tLoss: 0.105563\n",
      "Train Epoch: 3 [38400/60000 (64%)]\tLoss: 0.366080\n",
      "Train Epoch: 3 [44800/60000 (75%)]\tLoss: 0.499032\n",
      "Train Epoch: 3 [51200/60000 (85%)]\tLoss: 0.772681\n",
      "Train Epoch: 3 [57600/60000 (96%)]\tLoss: 0.156716\n",
      "\n",
      "Test set: Average loss: 0.0007, Accuracy: 9714/10000 (97%)\n",
      "\n",
      "Train Epoch: 4 [0/60000 (0%)]\tLoss: 0.297190\n",
      "Train Epoch: 4 [6400/60000 (11%)]\tLoss: 0.201892\n",
      "Train Epoch: 4 [12800/60000 (21%)]\tLoss: 0.200539\n",
      "Train Epoch: 4 [19200/60000 (32%)]\tLoss: 0.287159\n",
      "Train Epoch: 4 [25600/60000 (43%)]\tLoss: 0.247930\n",
      "Train Epoch: 4 [32000/60000 (53%)]\tLoss: 0.275843\n",
      "Train Epoch: 4 [38400/60000 (64%)]\tLoss: 0.355209\n",
      "Train Epoch: 4 [44800/60000 (75%)]\tLoss: 0.338699\n",
      "Train Epoch: 4 [51200/60000 (85%)]\tLoss: 0.337992\n",
      "Train Epoch: 4 [57600/60000 (96%)]\tLoss: 0.182647\n",
      "\n",
      "Test set: Average loss: 0.0008, Accuracy: 9673/10000 (97%)\n",
      "\n",
      "Train Epoch: 5 [0/60000 (0%)]\tLoss: 0.223875\n",
      "Train Epoch: 5 [6400/60000 (11%)]\tLoss: 0.540484\n",
      "Train Epoch: 5 [12800/60000 (21%)]\tLoss: 0.273359\n",
      "Train Epoch: 5 [19200/60000 (32%)]\tLoss: 0.181236\n",
      "Train Epoch: 5 [25600/60000 (43%)]\tLoss: 0.213839\n",
      "Train Epoch: 5 [32000/60000 (53%)]\tLoss: 0.261857\n",
      "Train Epoch: 5 [38400/60000 (64%)]\tLoss: 0.190785\n",
      "Train Epoch: 5 [44800/60000 (75%)]\tLoss: 0.217784\n",
      "Train Epoch: 5 [51200/60000 (85%)]\tLoss: 0.316238\n",
      "Train Epoch: 5 [57600/60000 (96%)]\tLoss: 0.266611\n"
     ]
    },
    {
     "name": "stderr",
     "output_type": "stream",
     "text": [
      "\u001b[32m[I 2022-08-08 20:12:23,516]\u001b[0m Trial 16 finished with value: 97.57 and parameters: {'train_batch_size': 64, 'test_batch_size': 128, 'lr': 0.009896241442532249, 'momentum': 0.6704884663993561, 'optimizer': <class 'torch.optim.rmsprop.RMSprop'>, 'out_channels1': 64, 'out_channels2': 64, 'prob1': 0.34892543668463377, 'prob2': 0.23095220101298464, 'prob3': 0.4905793652502975, 'hidden1': 256}. Best is trial 0 with value: 99.02.\u001b[0m\n"
     ]
    },
    {
     "name": "stdout",
     "output_type": "stream",
     "text": [
      "\n",
      "Test set: Average loss: 0.0006, Accuracy: 9757/10000 (98%)\n",
      "\n",
      "Train Epoch: 1 [0/60000 (0%)]\tLoss: 2.306852\n"
     ]
    },
    {
     "name": "stderr",
     "output_type": "stream",
     "text": [
      "c:\\Anaconda3\\lib\\site-packages\\optuna\\distributions.py:427: UserWarning: Choices for a categorical distribution should be a tuple of None, bool, int, float and str for persistent storage but contains <class 'torch.optim.radam.RAdam'> which is of type type.\n",
      "  warnings.warn(message)\n",
      "c:\\Anaconda3\\lib\\site-packages\\optuna\\distributions.py:427: UserWarning: Choices for a categorical distribution should be a tuple of None, bool, int, float and str for persistent storage but contains <class 'torch.optim.rmsprop.RMSprop'> which is of type type.\n",
      "  warnings.warn(message)\n",
      "c:\\Anaconda3\\lib\\site-packages\\optuna\\distributions.py:427: UserWarning: Choices for a categorical distribution should be a tuple of None, bool, int, float and str for persistent storage but contains <class 'torch.optim.adam.Adam'> which is of type type.\n",
      "  warnings.warn(message)\n"
     ]
    },
    {
     "name": "stdout",
     "output_type": "stream",
     "text": [
      "Train Epoch: 1 [12800/60000 (21%)]\tLoss: 0.897956\n",
      "Train Epoch: 1 [25600/60000 (43%)]\tLoss: 0.369800\n",
      "Train Epoch: 1 [38400/60000 (64%)]\tLoss: 0.326671\n",
      "Train Epoch: 1 [51200/60000 (85%)]\tLoss: 0.186007\n",
      "\n",
      "Test set: Average loss: 0.0005, Accuracy: 9607/10000 (96%)\n",
      "\n",
      "Train Epoch: 2 [0/60000 (0%)]\tLoss: 0.190057\n",
      "Train Epoch: 2 [12800/60000 (21%)]\tLoss: 0.159798\n",
      "Train Epoch: 2 [25600/60000 (43%)]\tLoss: 0.143677\n",
      "Train Epoch: 2 [38400/60000 (64%)]\tLoss: 0.118415\n",
      "Train Epoch: 2 [51200/60000 (85%)]\tLoss: 0.106056\n",
      "\n",
      "Test set: Average loss: 0.0002, Accuracy: 9788/10000 (98%)\n",
      "\n",
      "Train Epoch: 3 [0/60000 (0%)]\tLoss: 0.102092\n",
      "Train Epoch: 3 [12800/60000 (21%)]\tLoss: 0.063907\n",
      "Train Epoch: 3 [25600/60000 (43%)]\tLoss: 0.085627\n",
      "Train Epoch: 3 [38400/60000 (64%)]\tLoss: 0.062561\n",
      "Train Epoch: 3 [51200/60000 (85%)]\tLoss: 0.078514\n",
      "\n",
      "Test set: Average loss: 0.0002, Accuracy: 9845/10000 (98%)\n",
      "\n",
      "Train Epoch: 4 [0/60000 (0%)]\tLoss: 0.069374\n",
      "Train Epoch: 4 [12800/60000 (21%)]\tLoss: 0.134460\n",
      "Train Epoch: 4 [25600/60000 (43%)]\tLoss: 0.094472\n",
      "Train Epoch: 4 [38400/60000 (64%)]\tLoss: 0.034195\n",
      "Train Epoch: 4 [51200/60000 (85%)]\tLoss: 0.119357\n",
      "\n",
      "Test set: Average loss: 0.0002, Accuracy: 9855/10000 (99%)\n",
      "\n",
      "Train Epoch: 5 [0/60000 (0%)]\tLoss: 0.031539\n",
      "Train Epoch: 5 [12800/60000 (21%)]\tLoss: 0.046086\n",
      "Train Epoch: 5 [25600/60000 (43%)]\tLoss: 0.135756\n",
      "Train Epoch: 5 [38400/60000 (64%)]\tLoss: 0.008281\n",
      "Train Epoch: 5 [51200/60000 (85%)]\tLoss: 0.075623\n"
     ]
    },
    {
     "name": "stderr",
     "output_type": "stream",
     "text": [
      "\u001b[32m[I 2022-08-08 20:13:04,778]\u001b[0m Trial 17 finished with value: 98.93 and parameters: {'train_batch_size': 128, 'test_batch_size': 256, 'lr': 0.0013599893952876603, 'momentum': 0.5933373357145804, 'optimizer': <class 'torch.optim.radam.RAdam'>, 'out_channels1': 16, 'out_channels2': 32, 'prob1': 0.22309386441733817, 'prob2': 0.20095224562820418, 'prob3': 0.2781627639361019, 'hidden1': 256}. Best is trial 0 with value: 99.02.\u001b[0m\n"
     ]
    },
    {
     "name": "stdout",
     "output_type": "stream",
     "text": [
      "\n",
      "Test set: Average loss: 0.0001, Accuracy: 9893/10000 (99%)\n",
      "\n",
      "Train Epoch: 1 [0/60000 (0%)]\tLoss: 2.300118\n"
     ]
    },
    {
     "name": "stderr",
     "output_type": "stream",
     "text": [
      "c:\\Anaconda3\\lib\\site-packages\\optuna\\distributions.py:427: UserWarning: Choices for a categorical distribution should be a tuple of None, bool, int, float and str for persistent storage but contains <class 'torch.optim.radam.RAdam'> which is of type type.\n",
      "  warnings.warn(message)\n",
      "c:\\Anaconda3\\lib\\site-packages\\optuna\\distributions.py:427: UserWarning: Choices for a categorical distribution should be a tuple of None, bool, int, float and str for persistent storage but contains <class 'torch.optim.rmsprop.RMSprop'> which is of type type.\n",
      "  warnings.warn(message)\n",
      "c:\\Anaconda3\\lib\\site-packages\\optuna\\distributions.py:427: UserWarning: Choices for a categorical distribution should be a tuple of None, bool, int, float and str for persistent storage but contains <class 'torch.optim.adam.Adam'> which is of type type.\n",
      "  warnings.warn(message)\n"
     ]
    },
    {
     "name": "stdout",
     "output_type": "stream",
     "text": [
      "Train Epoch: 1 [12800/60000 (21%)]\tLoss: 0.506337\n",
      "Train Epoch: 1 [25600/60000 (43%)]\tLoss: 0.276207\n",
      "Train Epoch: 1 [38400/60000 (64%)]\tLoss: 0.212006\n",
      "Train Epoch: 1 [51200/60000 (85%)]\tLoss: 0.111604\n",
      "\n",
      "Test set: Average loss: 0.0003, Accuracy: 9724/10000 (97%)\n",
      "\n",
      "Train Epoch: 2 [0/60000 (0%)]\tLoss: 0.125236\n",
      "Train Epoch: 2 [12800/60000 (21%)]\tLoss: 0.104190\n",
      "Train Epoch: 2 [25600/60000 (43%)]\tLoss: 0.188358\n",
      "Train Epoch: 2 [38400/60000 (64%)]\tLoss: 0.140690\n",
      "Train Epoch: 2 [51200/60000 (85%)]\tLoss: 0.088868\n",
      "\n",
      "Test set: Average loss: 0.0002, Accuracy: 9830/10000 (98%)\n",
      "\n",
      "Train Epoch: 3 [0/60000 (0%)]\tLoss: 0.049941\n",
      "Train Epoch: 3 [12800/60000 (21%)]\tLoss: 0.055520\n",
      "Train Epoch: 3 [25600/60000 (43%)]\tLoss: 0.088776\n",
      "Train Epoch: 3 [38400/60000 (64%)]\tLoss: 0.064248\n",
      "Train Epoch: 3 [51200/60000 (85%)]\tLoss: 0.097754\n",
      "\n",
      "Test set: Average loss: 0.0002, Accuracy: 9861/10000 (99%)\n",
      "\n",
      "Train Epoch: 4 [0/60000 (0%)]\tLoss: 0.067408\n",
      "Train Epoch: 4 [12800/60000 (21%)]\tLoss: 0.061223\n",
      "Train Epoch: 4 [25600/60000 (43%)]\tLoss: 0.170361\n",
      "Train Epoch: 4 [38400/60000 (64%)]\tLoss: 0.076016\n",
      "Train Epoch: 4 [51200/60000 (85%)]\tLoss: 0.066409\n",
      "\n",
      "Test set: Average loss: 0.0001, Accuracy: 9885/10000 (99%)\n",
      "\n",
      "Train Epoch: 5 [0/60000 (0%)]\tLoss: 0.025296\n",
      "Train Epoch: 5 [12800/60000 (21%)]\tLoss: 0.122179\n",
      "Train Epoch: 5 [25600/60000 (43%)]\tLoss: 0.053312\n",
      "Train Epoch: 5 [38400/60000 (64%)]\tLoss: 0.042412\n",
      "Train Epoch: 5 [51200/60000 (85%)]\tLoss: 0.015013\n"
     ]
    },
    {
     "name": "stderr",
     "output_type": "stream",
     "text": [
      "\u001b[32m[I 2022-08-08 20:13:45,872]\u001b[0m Trial 18 finished with value: 98.91 and parameters: {'train_batch_size': 128, 'test_batch_size': 256, 'lr': 0.0020872318920785254, 'momentum': 0.9873777809420754, 'optimizer': <class 'torch.optim.radam.RAdam'>, 'out_channels1': 16, 'out_channels2': 64, 'prob1': 0.2608960588142399, 'prob2': 0.3061188312566299, 'prob3': 0.23176978866498277, 'hidden1': 256}. Best is trial 0 with value: 99.02.\u001b[0m\n"
     ]
    },
    {
     "name": "stdout",
     "output_type": "stream",
     "text": [
      "\n",
      "Test set: Average loss: 0.0001, Accuracy: 9891/10000 (99%)\n",
      "\n",
      "Train Epoch: 1 [0/60000 (0%)]\tLoss: 2.287674\n"
     ]
    },
    {
     "name": "stderr",
     "output_type": "stream",
     "text": [
      "c:\\Anaconda3\\lib\\site-packages\\optuna\\distributions.py:427: UserWarning: Choices for a categorical distribution should be a tuple of None, bool, int, float and str for persistent storage but contains <class 'torch.optim.radam.RAdam'> which is of type type.\n",
      "  warnings.warn(message)\n",
      "c:\\Anaconda3\\lib\\site-packages\\optuna\\distributions.py:427: UserWarning: Choices for a categorical distribution should be a tuple of None, bool, int, float and str for persistent storage but contains <class 'torch.optim.rmsprop.RMSprop'> which is of type type.\n",
      "  warnings.warn(message)\n",
      "c:\\Anaconda3\\lib\\site-packages\\optuna\\distributions.py:427: UserWarning: Choices for a categorical distribution should be a tuple of None, bool, int, float and str for persistent storage but contains <class 'torch.optim.adam.Adam'> which is of type type.\n",
      "  warnings.warn(message)\n"
     ]
    },
    {
     "name": "stdout",
     "output_type": "stream",
     "text": [
      "Train Epoch: 1 [6400/60000 (11%)]\tLoss: 2.306085\n",
      "Train Epoch: 1 [12800/60000 (21%)]\tLoss: 2.068973\n",
      "Train Epoch: 1 [19200/60000 (32%)]\tLoss: 0.929637\n",
      "Train Epoch: 1 [25600/60000 (43%)]\tLoss: 0.646700\n",
      "Train Epoch: 1 [32000/60000 (53%)]\tLoss: 0.582259\n",
      "Train Epoch: 1 [38400/60000 (64%)]\tLoss: 0.731235\n",
      "Train Epoch: 1 [44800/60000 (75%)]\tLoss: 0.572772\n",
      "Train Epoch: 1 [51200/60000 (85%)]\tLoss: 0.354388\n",
      "Train Epoch: 1 [57600/60000 (96%)]\tLoss: 0.516819\n",
      "\n",
      "Test set: Average loss: 0.0006, Accuracy: 9534/10000 (95%)\n",
      "\n",
      "Train Epoch: 2 [0/60000 (0%)]\tLoss: 0.370966\n",
      "Train Epoch: 2 [6400/60000 (11%)]\tLoss: 0.573470\n",
      "Train Epoch: 2 [12800/60000 (21%)]\tLoss: 0.302737\n",
      "Train Epoch: 2 [19200/60000 (32%)]\tLoss: 0.319409\n",
      "Train Epoch: 2 [25600/60000 (43%)]\tLoss: 0.401838\n",
      "Train Epoch: 2 [32000/60000 (53%)]\tLoss: 0.529979\n",
      "Train Epoch: 2 [38400/60000 (64%)]\tLoss: 0.139972\n",
      "Train Epoch: 2 [44800/60000 (75%)]\tLoss: 0.244475\n",
      "Train Epoch: 2 [51200/60000 (85%)]\tLoss: 0.182288\n",
      "Train Epoch: 2 [57600/60000 (96%)]\tLoss: 0.167288\n",
      "\n",
      "Test set: Average loss: 0.0004, Accuracy: 9667/10000 (97%)\n",
      "\n",
      "Train Epoch: 3 [0/60000 (0%)]\tLoss: 0.448637\n",
      "Train Epoch: 3 [6400/60000 (11%)]\tLoss: 0.158165\n",
      "Train Epoch: 3 [12800/60000 (21%)]\tLoss: 0.129843\n",
      "Train Epoch: 3 [19200/60000 (32%)]\tLoss: 0.280864\n",
      "Train Epoch: 3 [25600/60000 (43%)]\tLoss: 0.259696\n",
      "Train Epoch: 3 [32000/60000 (53%)]\tLoss: 0.099335\n",
      "Train Epoch: 3 [38400/60000 (64%)]\tLoss: 0.300497\n",
      "Train Epoch: 3 [44800/60000 (75%)]\tLoss: 0.127326\n",
      "Train Epoch: 3 [51200/60000 (85%)]\tLoss: 0.386235\n",
      "Train Epoch: 3 [57600/60000 (96%)]\tLoss: 0.209193\n",
      "\n",
      "Test set: Average loss: 0.0003, Accuracy: 9776/10000 (98%)\n",
      "\n",
      "Train Epoch: 4 [0/60000 (0%)]\tLoss: 0.297469\n",
      "Train Epoch: 4 [6400/60000 (11%)]\tLoss: 0.082387\n",
      "Train Epoch: 4 [12800/60000 (21%)]\tLoss: 0.313922\n",
      "Train Epoch: 4 [19200/60000 (32%)]\tLoss: 0.135305\n",
      "Train Epoch: 4 [25600/60000 (43%)]\tLoss: 0.048533\n",
      "Train Epoch: 4 [32000/60000 (53%)]\tLoss: 0.127942\n",
      "Train Epoch: 4 [38400/60000 (64%)]\tLoss: 0.098162\n",
      "Train Epoch: 4 [44800/60000 (75%)]\tLoss: 0.075116\n",
      "Train Epoch: 4 [51200/60000 (85%)]\tLoss: 0.097727\n",
      "Train Epoch: 4 [57600/60000 (96%)]\tLoss: 0.220389\n",
      "\n",
      "Test set: Average loss: 0.0002, Accuracy: 9803/10000 (98%)\n",
      "\n",
      "Train Epoch: 5 [0/60000 (0%)]\tLoss: 0.179348\n",
      "Train Epoch: 5 [6400/60000 (11%)]\tLoss: 0.098722\n",
      "Train Epoch: 5 [12800/60000 (21%)]\tLoss: 0.146885\n",
      "Train Epoch: 5 [19200/60000 (32%)]\tLoss: 0.280084\n",
      "Train Epoch: 5 [25600/60000 (43%)]\tLoss: 0.174639\n",
      "Train Epoch: 5 [32000/60000 (53%)]\tLoss: 0.098457\n",
      "Train Epoch: 5 [38400/60000 (64%)]\tLoss: 0.222063\n",
      "Train Epoch: 5 [44800/60000 (75%)]\tLoss: 0.044989\n",
      "Train Epoch: 5 [51200/60000 (85%)]\tLoss: 0.171597\n",
      "Train Epoch: 5 [57600/60000 (96%)]\tLoss: 0.054539\n"
     ]
    },
    {
     "name": "stderr",
     "output_type": "stream",
     "text": [
      "\u001b[32m[I 2022-08-08 20:14:31,461]\u001b[0m Trial 19 finished with value: 98.3 and parameters: {'train_batch_size': 64, 'test_batch_size': 256, 'lr': 0.0036151216702108332, 'momentum': 0.7828590183994253, 'optimizer': <class 'torch.optim.rmsprop.RMSprop'>, 'out_channels1': 64, 'out_channels2': 16, 'prob1': 0.3057144797270942, 'prob2': 0.3832311358153075, 'prob3': 0.3431025121965455, 'hidden1': 64}. Best is trial 0 with value: 99.02.\u001b[0m\n"
     ]
    },
    {
     "name": "stdout",
     "output_type": "stream",
     "text": [
      "\n",
      "Test set: Average loss: 0.0002, Accuracy: 9830/10000 (98%)\n",
      "\n"
     ]
    }
   ],
   "source": [
    "sampler = optuna.samplers.TPESampler()\n",
    "    \n",
    "study = optuna.create_study(sampler=sampler, direction='maximize')\n",
    "study.optimize(func=train_mnist, n_trials=20)"
   ]
  },
  {
   "cell_type": "markdown",
   "metadata": {},
   "source": [
    "## The Best Trial 확인"
   ]
  },
  {
   "cell_type": "code",
   "execution_count": 84,
   "metadata": {},
   "outputs": [
    {
     "name": "stdout",
     "output_type": "stream",
     "text": [
      "train_batch_size: 128\n",
      "test_batch_size: 256\n",
      "lr: 0.003038332838428516\n",
      "momentum: 0.7675489001374012\n",
      "optimizer: <class 'torch.optim.radam.RAdam'>\n",
      "out_channels1: 16\n",
      "out_channels2: 32\n",
      "prob1: 0.21765708977921416\n",
      "prob2: 0.26984438461641297\n",
      "prob3: 0.31985142559466134\n",
      "hidden1: 256\n"
     ]
    }
   ],
   "source": [
    "best_trial = study.best_trial\n",
    "\n",
    "for key, value in best_trial.params.items():\n",
    "    print(\"{}: {}\".format(key, value))"
   ]
  },
  {
   "cell_type": "code",
   "execution_count": 89,
   "metadata": {},
   "outputs": [
    {
     "data": {
      "application/vnd.plotly.v1+json": {
       "config": {
        "plotlyServerURL": "https://plot.ly"
       },
       "data": [
        {
         "dimensions": [
          {
           "label": "Objective Value",
           "range": [
            97.57,
            99.02
           ],
           "values": [
            99.02,
            98.85,
            98.16,
            98.93,
            98.67,
            98.74,
            98.85,
            98.77,
            98.39,
            98.59,
            98.94,
            98.88,
            98.8,
            98.83,
            98.77,
            98.83,
            97.57,
            98.93,
            98.91,
            98.3
           ]
          },
          {
           "label": "lr",
           "range": [
            -2.9922926619032593,
            -2.0045297175947483
           ],
           "ticktext": [
            "0.00102",
            "0.0099"
           ],
           "tickvals": [
            -2.9922926619032593,
            -2.0045297175947483
           ],
           "values": [
            -2.517364652469572,
            -2.1346331188795733,
            -2.308832627282227,
            -2.515051939791323,
            -2.769258040691609,
            -2.1439865234958475,
            -2.6625003565022953,
            -2.163273806222354,
            -2.3470981694029267,
            -2.6430037445621517,
            -2.9492298817455724,
            -2.9922926619032593,
            -2.9622146970723207,
            -2.821817606606977,
            -2.3744755556059878,
            -2.554595431882069,
            -2.0045297175947483,
            -2.8664644780900823,
            -2.68042929800907,
            -2.4418770815473296
           ]
          },
          {
           "label": "momentum",
           "range": [
            0.420487032660392,
            0.9873777809420754
           ],
           "values": [
            0.7675489001374012,
            0.496217804407862,
            0.8957109948010837,
            0.4634149584438463,
            0.7468803550658518,
            0.5886980579554965,
            0.8969680331951099,
            0.8558903695388249,
            0.420487032660392,
            0.9283807828698443,
            0.7017341038886893,
            0.7223078223835823,
            0.5898841393915872,
            0.7740270403565286,
            0.6484440347560189,
            0.8144518790099673,
            0.6704884663993561,
            0.5933373357145804,
            0.9873777809420754,
            0.7828590183994253
           ]
          }
         ],
         "labelangle": 30,
         "labelside": "bottom",
         "line": {
          "color": [
           99.02,
           98.85,
           98.16,
           98.93,
           98.67,
           98.74,
           98.85,
           98.77,
           98.39,
           98.59,
           98.94,
           98.88,
           98.8,
           98.83,
           98.77,
           98.83,
           97.57,
           98.93,
           98.91,
           98.3
          ],
          "colorbar": {
           "title": {
            "text": "Objective Value"
           }
          },
          "colorscale": [
           [
            0,
            "rgb(247,251,255)"
           ],
           [
            0.125,
            "rgb(222,235,247)"
           ],
           [
            0.25,
            "rgb(198,219,239)"
           ],
           [
            0.375,
            "rgb(158,202,225)"
           ],
           [
            0.5,
            "rgb(107,174,214)"
           ],
           [
            0.625,
            "rgb(66,146,198)"
           ],
           [
            0.75,
            "rgb(33,113,181)"
           ],
           [
            0.875,
            "rgb(8,81,156)"
           ],
           [
            1,
            "rgb(8,48,107)"
           ]
          ],
          "reversescale": false,
          "showscale": true
         },
         "type": "parcoords"
        }
       ],
       "layout": {
        "template": {
         "data": {
          "bar": [
           {
            "error_x": {
             "color": "#2a3f5f"
            },
            "error_y": {
             "color": "#2a3f5f"
            },
            "marker": {
             "line": {
              "color": "#E5ECF6",
              "width": 0.5
             },
             "pattern": {
              "fillmode": "overlay",
              "size": 10,
              "solidity": 0.2
             }
            },
            "type": "bar"
           }
          ],
          "barpolar": [
           {
            "marker": {
             "line": {
              "color": "#E5ECF6",
              "width": 0.5
             },
             "pattern": {
              "fillmode": "overlay",
              "size": 10,
              "solidity": 0.2
             }
            },
            "type": "barpolar"
           }
          ],
          "carpet": [
           {
            "aaxis": {
             "endlinecolor": "#2a3f5f",
             "gridcolor": "white",
             "linecolor": "white",
             "minorgridcolor": "white",
             "startlinecolor": "#2a3f5f"
            },
            "baxis": {
             "endlinecolor": "#2a3f5f",
             "gridcolor": "white",
             "linecolor": "white",
             "minorgridcolor": "white",
             "startlinecolor": "#2a3f5f"
            },
            "type": "carpet"
           }
          ],
          "choropleth": [
           {
            "colorbar": {
             "outlinewidth": 0,
             "ticks": ""
            },
            "type": "choropleth"
           }
          ],
          "contour": [
           {
            "colorbar": {
             "outlinewidth": 0,
             "ticks": ""
            },
            "colorscale": [
             [
              0,
              "#0d0887"
             ],
             [
              0.1111111111111111,
              "#46039f"
             ],
             [
              0.2222222222222222,
              "#7201a8"
             ],
             [
              0.3333333333333333,
              "#9c179e"
             ],
             [
              0.4444444444444444,
              "#bd3786"
             ],
             [
              0.5555555555555556,
              "#d8576b"
             ],
             [
              0.6666666666666666,
              "#ed7953"
             ],
             [
              0.7777777777777778,
              "#fb9f3a"
             ],
             [
              0.8888888888888888,
              "#fdca26"
             ],
             [
              1,
              "#f0f921"
             ]
            ],
            "type": "contour"
           }
          ],
          "contourcarpet": [
           {
            "colorbar": {
             "outlinewidth": 0,
             "ticks": ""
            },
            "type": "contourcarpet"
           }
          ],
          "heatmap": [
           {
            "colorbar": {
             "outlinewidth": 0,
             "ticks": ""
            },
            "colorscale": [
             [
              0,
              "#0d0887"
             ],
             [
              0.1111111111111111,
              "#46039f"
             ],
             [
              0.2222222222222222,
              "#7201a8"
             ],
             [
              0.3333333333333333,
              "#9c179e"
             ],
             [
              0.4444444444444444,
              "#bd3786"
             ],
             [
              0.5555555555555556,
              "#d8576b"
             ],
             [
              0.6666666666666666,
              "#ed7953"
             ],
             [
              0.7777777777777778,
              "#fb9f3a"
             ],
             [
              0.8888888888888888,
              "#fdca26"
             ],
             [
              1,
              "#f0f921"
             ]
            ],
            "type": "heatmap"
           }
          ],
          "heatmapgl": [
           {
            "colorbar": {
             "outlinewidth": 0,
             "ticks": ""
            },
            "colorscale": [
             [
              0,
              "#0d0887"
             ],
             [
              0.1111111111111111,
              "#46039f"
             ],
             [
              0.2222222222222222,
              "#7201a8"
             ],
             [
              0.3333333333333333,
              "#9c179e"
             ],
             [
              0.4444444444444444,
              "#bd3786"
             ],
             [
              0.5555555555555556,
              "#d8576b"
             ],
             [
              0.6666666666666666,
              "#ed7953"
             ],
             [
              0.7777777777777778,
              "#fb9f3a"
             ],
             [
              0.8888888888888888,
              "#fdca26"
             ],
             [
              1,
              "#f0f921"
             ]
            ],
            "type": "heatmapgl"
           }
          ],
          "histogram": [
           {
            "marker": {
             "pattern": {
              "fillmode": "overlay",
              "size": 10,
              "solidity": 0.2
             }
            },
            "type": "histogram"
           }
          ],
          "histogram2d": [
           {
            "colorbar": {
             "outlinewidth": 0,
             "ticks": ""
            },
            "colorscale": [
             [
              0,
              "#0d0887"
             ],
             [
              0.1111111111111111,
              "#46039f"
             ],
             [
              0.2222222222222222,
              "#7201a8"
             ],
             [
              0.3333333333333333,
              "#9c179e"
             ],
             [
              0.4444444444444444,
              "#bd3786"
             ],
             [
              0.5555555555555556,
              "#d8576b"
             ],
             [
              0.6666666666666666,
              "#ed7953"
             ],
             [
              0.7777777777777778,
              "#fb9f3a"
             ],
             [
              0.8888888888888888,
              "#fdca26"
             ],
             [
              1,
              "#f0f921"
             ]
            ],
            "type": "histogram2d"
           }
          ],
          "histogram2dcontour": [
           {
            "colorbar": {
             "outlinewidth": 0,
             "ticks": ""
            },
            "colorscale": [
             [
              0,
              "#0d0887"
             ],
             [
              0.1111111111111111,
              "#46039f"
             ],
             [
              0.2222222222222222,
              "#7201a8"
             ],
             [
              0.3333333333333333,
              "#9c179e"
             ],
             [
              0.4444444444444444,
              "#bd3786"
             ],
             [
              0.5555555555555556,
              "#d8576b"
             ],
             [
              0.6666666666666666,
              "#ed7953"
             ],
             [
              0.7777777777777778,
              "#fb9f3a"
             ],
             [
              0.8888888888888888,
              "#fdca26"
             ],
             [
              1,
              "#f0f921"
             ]
            ],
            "type": "histogram2dcontour"
           }
          ],
          "mesh3d": [
           {
            "colorbar": {
             "outlinewidth": 0,
             "ticks": ""
            },
            "type": "mesh3d"
           }
          ],
          "parcoords": [
           {
            "line": {
             "colorbar": {
              "outlinewidth": 0,
              "ticks": ""
             }
            },
            "type": "parcoords"
           }
          ],
          "pie": [
           {
            "automargin": true,
            "type": "pie"
           }
          ],
          "scatter": [
           {
            "marker": {
             "colorbar": {
              "outlinewidth": 0,
              "ticks": ""
             }
            },
            "type": "scatter"
           }
          ],
          "scatter3d": [
           {
            "line": {
             "colorbar": {
              "outlinewidth": 0,
              "ticks": ""
             }
            },
            "marker": {
             "colorbar": {
              "outlinewidth": 0,
              "ticks": ""
             }
            },
            "type": "scatter3d"
           }
          ],
          "scattercarpet": [
           {
            "marker": {
             "colorbar": {
              "outlinewidth": 0,
              "ticks": ""
             }
            },
            "type": "scattercarpet"
           }
          ],
          "scattergeo": [
           {
            "marker": {
             "colorbar": {
              "outlinewidth": 0,
              "ticks": ""
             }
            },
            "type": "scattergeo"
           }
          ],
          "scattergl": [
           {
            "marker": {
             "colorbar": {
              "outlinewidth": 0,
              "ticks": ""
             }
            },
            "type": "scattergl"
           }
          ],
          "scattermapbox": [
           {
            "marker": {
             "colorbar": {
              "outlinewidth": 0,
              "ticks": ""
             }
            },
            "type": "scattermapbox"
           }
          ],
          "scatterpolar": [
           {
            "marker": {
             "colorbar": {
              "outlinewidth": 0,
              "ticks": ""
             }
            },
            "type": "scatterpolar"
           }
          ],
          "scatterpolargl": [
           {
            "marker": {
             "colorbar": {
              "outlinewidth": 0,
              "ticks": ""
             }
            },
            "type": "scatterpolargl"
           }
          ],
          "scatterternary": [
           {
            "marker": {
             "colorbar": {
              "outlinewidth": 0,
              "ticks": ""
             }
            },
            "type": "scatterternary"
           }
          ],
          "surface": [
           {
            "colorbar": {
             "outlinewidth": 0,
             "ticks": ""
            },
            "colorscale": [
             [
              0,
              "#0d0887"
             ],
             [
              0.1111111111111111,
              "#46039f"
             ],
             [
              0.2222222222222222,
              "#7201a8"
             ],
             [
              0.3333333333333333,
              "#9c179e"
             ],
             [
              0.4444444444444444,
              "#bd3786"
             ],
             [
              0.5555555555555556,
              "#d8576b"
             ],
             [
              0.6666666666666666,
              "#ed7953"
             ],
             [
              0.7777777777777778,
              "#fb9f3a"
             ],
             [
              0.8888888888888888,
              "#fdca26"
             ],
             [
              1,
              "#f0f921"
             ]
            ],
            "type": "surface"
           }
          ],
          "table": [
           {
            "cells": {
             "fill": {
              "color": "#EBF0F8"
             },
             "line": {
              "color": "white"
             }
            },
            "header": {
             "fill": {
              "color": "#C8D4E3"
             },
             "line": {
              "color": "white"
             }
            },
            "type": "table"
           }
          ]
         },
         "layout": {
          "annotationdefaults": {
           "arrowcolor": "#2a3f5f",
           "arrowhead": 0,
           "arrowwidth": 1
          },
          "autotypenumbers": "strict",
          "coloraxis": {
           "colorbar": {
            "outlinewidth": 0,
            "ticks": ""
           }
          },
          "colorscale": {
           "diverging": [
            [
             0,
             "#8e0152"
            ],
            [
             0.1,
             "#c51b7d"
            ],
            [
             0.2,
             "#de77ae"
            ],
            [
             0.3,
             "#f1b6da"
            ],
            [
             0.4,
             "#fde0ef"
            ],
            [
             0.5,
             "#f7f7f7"
            ],
            [
             0.6,
             "#e6f5d0"
            ],
            [
             0.7,
             "#b8e186"
            ],
            [
             0.8,
             "#7fbc41"
            ],
            [
             0.9,
             "#4d9221"
            ],
            [
             1,
             "#276419"
            ]
           ],
           "sequential": [
            [
             0,
             "#0d0887"
            ],
            [
             0.1111111111111111,
             "#46039f"
            ],
            [
             0.2222222222222222,
             "#7201a8"
            ],
            [
             0.3333333333333333,
             "#9c179e"
            ],
            [
             0.4444444444444444,
             "#bd3786"
            ],
            [
             0.5555555555555556,
             "#d8576b"
            ],
            [
             0.6666666666666666,
             "#ed7953"
            ],
            [
             0.7777777777777778,
             "#fb9f3a"
            ],
            [
             0.8888888888888888,
             "#fdca26"
            ],
            [
             1,
             "#f0f921"
            ]
           ],
           "sequentialminus": [
            [
             0,
             "#0d0887"
            ],
            [
             0.1111111111111111,
             "#46039f"
            ],
            [
             0.2222222222222222,
             "#7201a8"
            ],
            [
             0.3333333333333333,
             "#9c179e"
            ],
            [
             0.4444444444444444,
             "#bd3786"
            ],
            [
             0.5555555555555556,
             "#d8576b"
            ],
            [
             0.6666666666666666,
             "#ed7953"
            ],
            [
             0.7777777777777778,
             "#fb9f3a"
            ],
            [
             0.8888888888888888,
             "#fdca26"
            ],
            [
             1,
             "#f0f921"
            ]
           ]
          },
          "colorway": [
           "#636efa",
           "#EF553B",
           "#00cc96",
           "#ab63fa",
           "#FFA15A",
           "#19d3f3",
           "#FF6692",
           "#B6E880",
           "#FF97FF",
           "#FECB52"
          ],
          "font": {
           "color": "#2a3f5f"
          },
          "geo": {
           "bgcolor": "white",
           "lakecolor": "white",
           "landcolor": "#E5ECF6",
           "showlakes": true,
           "showland": true,
           "subunitcolor": "white"
          },
          "hoverlabel": {
           "align": "left"
          },
          "hovermode": "closest",
          "mapbox": {
           "style": "light"
          },
          "paper_bgcolor": "white",
          "plot_bgcolor": "#E5ECF6",
          "polar": {
           "angularaxis": {
            "gridcolor": "white",
            "linecolor": "white",
            "ticks": ""
           },
           "bgcolor": "#E5ECF6",
           "radialaxis": {
            "gridcolor": "white",
            "linecolor": "white",
            "ticks": ""
           }
          },
          "scene": {
           "xaxis": {
            "backgroundcolor": "#E5ECF6",
            "gridcolor": "white",
            "gridwidth": 2,
            "linecolor": "white",
            "showbackground": true,
            "ticks": "",
            "zerolinecolor": "white"
           },
           "yaxis": {
            "backgroundcolor": "#E5ECF6",
            "gridcolor": "white",
            "gridwidth": 2,
            "linecolor": "white",
            "showbackground": true,
            "ticks": "",
            "zerolinecolor": "white"
           },
           "zaxis": {
            "backgroundcolor": "#E5ECF6",
            "gridcolor": "white",
            "gridwidth": 2,
            "linecolor": "white",
            "showbackground": true,
            "ticks": "",
            "zerolinecolor": "white"
           }
          },
          "shapedefaults": {
           "line": {
            "color": "#2a3f5f"
           }
          },
          "ternary": {
           "aaxis": {
            "gridcolor": "white",
            "linecolor": "white",
            "ticks": ""
           },
           "baxis": {
            "gridcolor": "white",
            "linecolor": "white",
            "ticks": ""
           },
           "bgcolor": "#E5ECF6",
           "caxis": {
            "gridcolor": "white",
            "linecolor": "white",
            "ticks": ""
           }
          },
          "title": {
           "x": 0.05
          },
          "xaxis": {
           "automargin": true,
           "gridcolor": "white",
           "linecolor": "white",
           "ticks": "",
           "title": {
            "standoff": 15
           },
           "zerolinecolor": "white",
           "zerolinewidth": 2
          },
          "yaxis": {
           "automargin": true,
           "gridcolor": "white",
           "linecolor": "white",
           "ticks": "",
           "title": {
            "standoff": 15
           },
           "zerolinecolor": "white",
           "zerolinewidth": 2
          }
         }
        },
        "title": {
         "text": "Parallel Coordinate Plot"
        }
       }
      }
     },
     "metadata": {},
     "output_type": "display_data"
    }
   ],
   "source": [
    "optuna.visualization.plot_parallel_coordinate(study,params=['lr','momentum'])"
   ]
  },
  {
   "cell_type": "markdown",
   "metadata": {},
   "source": [
    "## The End"
   ]
  }
 ],
 "metadata": {
  "kernelspec": {
   "display_name": "Python 3.9.7 ('base')",
   "language": "python",
   "name": "python3"
  },
  "language_info": {
   "codemirror_mode": {
    "name": "ipython",
    "version": 3
   },
   "file_extension": ".py",
   "mimetype": "text/x-python",
   "name": "python",
   "nbconvert_exporter": "python",
   "pygments_lexer": "ipython3",
   "version": "3.9.7"
  },
  "orig_nbformat": 4,
  "vscode": {
   "interpreter": {
    "hash": "e4cce46d6be9934fbd27f9ca0432556941ea5bdf741d4f4d64c6cd7f8dfa8fba"
   }
  }
 },
 "nbformat": 4,
 "nbformat_minor": 2
}
